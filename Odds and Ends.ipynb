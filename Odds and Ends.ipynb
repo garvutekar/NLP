{
 "cells": [
  {
   "cell_type": "code",
   "execution_count": 7,
   "id": "4d21401f-a959-4df7-9dfc-e75605733f15",
   "metadata": {},
   "outputs": [],
   "source": [
    "from dataclasses import dataclass\n",
    "\n",
    "@dataclass\n",
    "class Teacher:\n",
    "    name : str\n",
    "    department : str\n",
    "    salary : int"
   ]
  },
  {
   "cell_type": "code",
   "execution_count": 9,
   "id": "17bb4fdd-3a1e-4eee-9f23-0d4767e46420",
   "metadata": {},
   "outputs": [
    {
     "data": {
      "text/plain": [
       "'deepa'"
      ]
     },
     "execution_count": 9,
     "metadata": {},
     "output_type": "execute_result"
    }
   ],
   "source": [
    "obj1 = Teacher('deepa','counselling',10000)\n",
    "obj1.name"
   ]
  },
  {
   "cell_type": "code",
   "execution_count": 10,
   "id": "43a2fd0e-b51b-4deb-822e-f914257edb55",
   "metadata": {},
   "outputs": [
    {
     "data": {
      "text/plain": [
       "10000"
      ]
     },
     "execution_count": 10,
     "metadata": {},
     "output_type": "execute_result"
    }
   ],
   "source": [
    "obj1.salary"
   ]
  },
  {
   "cell_type": "code",
   "execution_count": 11,
   "id": "8075a74c-903e-4b41-8444-2ec2fb81a826",
   "metadata": {},
   "outputs": [
    {
     "data": {
      "text/plain": [
       "'counselling'"
      ]
     },
     "execution_count": 11,
     "metadata": {},
     "output_type": "execute_result"
    }
   ],
   "source": [
    "obj1.department"
   ]
  }
 ],
 "metadata": {
  "kernelspec": {
   "display_name": "anaconda-panel-2023.05-py310",
   "language": "python",
   "name": "conda-env-anaconda-panel-2023.05-py310-py"
  },
  "language_info": {
   "codemirror_mode": {
    "name": "ipython",
    "version": 3
   },
   "file_extension": ".py",
   "mimetype": "text/x-python",
   "name": "python",
   "nbconvert_exporter": "python",
   "pygments_lexer": "ipython3",
   "version": "3.11.5"
  }
 },
 "nbformat": 4,
 "nbformat_minor": 5
}
