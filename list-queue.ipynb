{
 "cells": [
  {
   "cell_type": "code",
   "execution_count": 1,
   "id": "198e449c-2c3d-4429-b907-c20aae873947",
   "metadata": {},
   "outputs": [],
   "source": [
    "import queue"
   ]
  },
  {
   "cell_type": "code",
   "execution_count": 2,
   "id": "cd6a9502-f6f0-4105-9b5d-0014297c9b65",
   "metadata": {},
   "outputs": [],
   "source": [
    "queue = []\n",
    "queue"
   ]
  },
  {
   "cell_type": "code",
   "execution_count": 4,
   "id": "dfd7acf5-daf8-4678-b6eb-7df483a2238f",
   "metadata": {},
   "outputs": [
    {
     "data": {
      "text/plain": [
       "[1, 2, 3, 4, 5]"
      ]
     },
     "execution_count": 4,
     "metadata": {},
     "output_type": "execute_result"
    }
   ],
   "source": [
    "queue1 = [1,2,3]\n",
    "queue1.append(4)\n",
    "queue1.append(5)\n",
    "queue1"
   ]
  },
  {
   "cell_type": "code",
   "execution_count": 5,
   "id": "ff48eceb-0170-4bbd-a362-f622b4f746c9",
   "metadata": {},
   "outputs": [
    {
     "data": {
      "text/plain": [
       "[1, 2, 4]"
      ]
     },
     "execution_count": 5,
     "metadata": {},
     "output_type": "execute_result"
    }
   ],
   "source": [
    "queue1.pop()\n",
    "queue1.pop(2)\n",
    "queue1"
   ]
  },
  {
   "cell_type": "code",
   "execution_count": 6,
   "id": "6c14ed13-358b-496e-8f3a-aa69cf171061",
   "metadata": {},
   "outputs": [
    {
     "data": {
      "text/plain": [
       "['garv', 'dhruva', 'leisha', 'anuj']"
      ]
     },
     "execution_count": 6,
     "metadata": {},
     "output_type": "execute_result"
    }
   ],
   "source": [
    "queue2 = [\"garv\",\"dhruva\",\"leisha\"]\n",
    "queue2.append(\"anuj\")\n",
    "queue2"
   ]
  },
  {
   "cell_type": "code",
   "execution_count": 7,
   "id": "591fbc51-e6a3-4927-91e5-70f30a722220",
   "metadata": {},
   "outputs": [
    {
     "data": {
      "text/plain": [
       "['garv', 'leisha']"
      ]
     },
     "execution_count": 7,
     "metadata": {},
     "output_type": "execute_result"
    }
   ],
   "source": [
    "queue2.pop()\n",
    "queue2.pop(1)\n",
    "queue2"
   ]
  }
 ],
 "metadata": {
  "kernelspec": {
   "display_name": "anaconda-panel-2023.05-py310",
   "language": "python",
   "name": "conda-env-anaconda-panel-2023.05-py310-py"
  },
  "language_info": {
   "codemirror_mode": {
    "name": "ipython",
    "version": 3
   },
   "file_extension": ".py",
   "mimetype": "text/x-python",
   "name": "python",
   "nbconvert_exporter": "python",
   "pygments_lexer": "ipython3",
   "version": "3.11.5"
  }
 },
 "nbformat": 4,
 "nbformat_minor": 5
}
