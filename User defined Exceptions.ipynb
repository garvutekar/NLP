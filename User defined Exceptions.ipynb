{
 "cells": [
  {
   "cell_type": "code",
   "execution_count": 2,
   "id": "66293562-61eb-4f70-818c-0ff9ec320ef5",
   "metadata": {},
   "outputs": [
    {
     "name": "stdin",
     "output_type": "stream",
     "text": [
      "Enter first number 4\n",
      "Enter second number 8\n"
     ]
    },
    {
     "ename": "NameError",
     "evalue": "name 'EightMultiplicationError' is not defined",
     "output_type": "error",
     "traceback": [
      "\u001b[0;31m---------------------------------------------------------------------------\u001b[0m",
      "\u001b[0;31mNameError\u001b[0m                                 Traceback (most recent call last)",
      "Cell \u001b[0;32mIn[2], line 7\u001b[0m, in \u001b[0;36mEightMultiplicationError\u001b[0;34m()\u001b[0m\n\u001b[1;32m      6\u001b[0m \u001b[38;5;28;01mif\u001b[39;00m num1\u001b[38;5;241m==\u001b[39m\u001b[38;5;241m8\u001b[39m \u001b[38;5;129;01mor\u001b[39;00m num2\u001b[38;5;241m==\u001b[39m\u001b[38;5;241m8\u001b[39m:\n\u001b[0;32m----> 7\u001b[0m     \u001b[38;5;28;01mraise\u001b[39;00m EightMultiplicationError\n\u001b[1;32m      8\u001b[0m \u001b[38;5;28;01melse\u001b[39;00m:\n",
      "\u001b[0;31mNameError\u001b[0m: name 'EightMultiplicationError' is not defined",
      "\nDuring handling of the above exception, another exception occurred:\n",
      "\u001b[0;31mNameError\u001b[0m                                 Traceback (most recent call last)",
      "Cell \u001b[0;32mIn[2], line 1\u001b[0m\n\u001b[0;32m----> 1\u001b[0m \u001b[38;5;28;01mclass\u001b[39;00m \u001b[38;5;21;01mEightMultiplicationError\u001b[39;00m(\u001b[38;5;167;01mException\u001b[39;00m):\n\u001b[1;32m      2\u001b[0m     \u001b[38;5;28;01mpass\u001b[39;00m\n\u001b[1;32m      3\u001b[0m     \u001b[38;5;28;01mtry\u001b[39;00m:\n",
      "Cell \u001b[0;32mIn[2], line 12\u001b[0m, in \u001b[0;36mEightMultiplicationError\u001b[0;34m()\u001b[0m\n\u001b[1;32m      9\u001b[0m         num3 \u001b[38;5;241m=\u001b[39m num1\u001b[38;5;241m*\u001b[39mnum2\n\u001b[1;32m     10\u001b[0m         \u001b[38;5;28mprint\u001b[39m(num1,\u001b[38;5;124m\"\u001b[39m\u001b[38;5;124m * \u001b[39m\u001b[38;5;124m\"\u001b[39m,num2,\u001b[38;5;124m\"\u001b[39m\u001b[38;5;124m=\u001b[39m\u001b[38;5;124m\"\u001b[39m,num3)\n\u001b[0;32m---> 12\u001b[0m \u001b[38;5;28;01mexcept\u001b[39;00m EightMultiplicationError:\n\u001b[1;32m     13\u001b[0m     \u001b[38;5;28mprint\u001b[39m(\u001b[38;5;124m\"\u001b[39m\u001b[38;5;124mYou can\u001b[39m\u001b[38;5;124m'\u001b[39m\u001b[38;5;124mt multiply with the number 8.Enter again\u001b[39m\u001b[38;5;124m\"\u001b[39m)\n\u001b[1;32m     14\u001b[0m     \u001b[38;5;28;01mwhile\u001b[39;00m \u001b[38;5;28;01mTrue\u001b[39;00m:\n",
      "\u001b[0;31mNameError\u001b[0m: name 'EightMultiplicationError' is not defined"
     ]
    }
   ],
   "source": [
    "class EightMultiplicationError(Exception):\n",
    "    pass\n",
    "    try:\n",
    "        num1 = int(input(\"Enter first number\"))\n",
    "        num2 = int(input(\"Enter second number\"))\n",
    "        if num1==8 or num2==8:\n",
    "            raise EightMultiplicationError\n",
    "        else:\n",
    "            num3 = num1*num2\n",
    "            print(num1,\" * \",num2,\"=\",num3)\n",
    "            \n",
    "    except EightMultiplicationError:\n",
    "        print(\"You can't multiply with the number 8.Enter again\")\n",
    "        while True:\n",
    "            try:\n",
    "                num1 = int(input(\"Enter first number\"))\n",
    "                num2 = int(input(\"Enter second number\"))\n",
    "                if num1==8 or num2==8:\n",
    "                    print(\"You can't multiply with the number 8.Enter again\")\n",
    "                else:\n",
    "                    num3 = num1*num2\n",
    "                    print(num1,\" * \",num2,\"=\",num3)\n",
    "                    break\n",
    "            except EightMultiplicationError:\n",
    "                print(\"You can't multiply with the number 8.Enter again\")\n",
    "\n",
    "    num3 = num1*num2\n",
    "    print(num1,\" * \",num2,\"=\",num3)"
   ]
  },
  {
   "cell_type": "code",
   "execution_count": null,
   "id": "f103221a-4647-442c-b5db-28f38c4b3cb1",
   "metadata": {},
   "outputs": [],
   "source": []
  }
 ],
 "metadata": {
  "kernelspec": {
   "display_name": "anaconda-panel-2023.05-py310",
   "language": "python",
   "name": "conda-env-anaconda-panel-2023.05-py310-py"
  },
  "language_info": {
   "codemirror_mode": {
    "name": "ipython",
    "version": 3
   },
   "file_extension": ".py",
   "mimetype": "text/x-python",
   "name": "python",
   "nbconvert_exporter": "python",
   "pygments_lexer": "ipython3",
   "version": "3.11.5"
  }
 },
 "nbformat": 4,
 "nbformat_minor": 5
}
