{
 "cells": [
  {
   "cell_type": "code",
   "execution_count": 2,
   "id": "f7fce2d7-5800-4379-945d-b5576108750b",
   "metadata": {},
   "outputs": [],
   "source": [
    "import tribonacci"
   ]
  },
  {
   "cell_type": "code",
   "execution_count": 3,
   "id": "2b187173-83c3-4489-b60b-6df7d08f38e5",
   "metadata": {},
   "outputs": [
    {
     "name": "stdout",
     "output_type": "stream",
     "text": [
      "0 0 1 1 2 4 7 13 \n",
      "0 0 1 1 2 4 7 13 24 44 \n"
     ]
    }
   ],
   "source": [
    "tribonacci.tribo_1(20)  \n",
    "tribonacci.tribo_2(10)"
   ]
  },
  {
   "cell_type": "code",
   "execution_count": 4,
   "id": "e89ae4a5-4a9f-4e3c-9ee4-96bd66196a4f",
   "metadata": {},
   "outputs": [
    {
     "name": "stdout",
     "output_type": "stream",
     "text": [
      "0 0 1 1 2 4 7 13 24 44 81 149 274 504 927 \n",
      "0 0 1 1 2 4 7 13 24 44 81 149 274 504 927 1705 3136 5768 10609 19513 35890 66012 121415 223317 410744 755476 1389537 2555757 4700770 8646064 15902591 29249425 53798080 98950096 181997601 334745777 615693474 1132436852 2082876103 3831006429 7046319384 12960201916 23837527729 43844049029 80641778674 148323355432 272809183135 501774317241 922906855808 1697490356184 \n"
     ]
    }
   ],
   "source": [
    "from tribonacci import tribo_1,tribo_2\n",
    "tribo_1(1000)\n",
    "tribo_2(50)"
   ]
  }
 ],
 "metadata": {
  "kernelspec": {
   "display_name": "anaconda-panel-2023.05-py310",
   "language": "python",
   "name": "conda-env-anaconda-panel-2023.05-py310-py"
  },
  "language_info": {
   "codemirror_mode": {
    "name": "ipython",
    "version": 3
   },
   "file_extension": ".py",
   "mimetype": "text/x-python",
   "name": "python",
   "nbconvert_exporter": "python",
   "pygments_lexer": "ipython3",
   "version": "3.11.5"
  }
 },
 "nbformat": 4,
 "nbformat_minor": 5
}
