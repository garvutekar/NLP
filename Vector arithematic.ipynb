{
 "cells": [
  {
   "cell_type": "code",
   "execution_count": 5,
   "id": "94281251-c4eb-489c-b14c-6b019cf10a45",
   "metadata": {},
   "outputs": [],
   "source": [
    "from gensim.models import KeyedVectors\n",
    "import gensim.downloader as api"
   ]
  },
  {
   "cell_type": "code",
   "execution_count": 6,
   "id": "e4912efe-2a63-47dc-ae3d-fb9aa0043ea5",
   "metadata": {},
   "outputs": [],
   "source": [
    "word_vectors = api.load('glove-wiki-gigaword-100')  "
   ]
  },
  {
   "cell_type": "code",
   "execution_count": 9,
   "id": "0c44e4a6-1705-4b94-9e57-a40cf2f65631",
   "metadata": {},
   "outputs": [
    {
     "name": "stdout",
     "output_type": "stream",
     "text": [
      "Calculating: king - man + woman = ?\n"
     ]
    }
   ],
   "source": [
    "print(\"Calculating: king - man + woman = ?\")\n",
    "results = word_vectors.most_similar(\n",
    "    positive=['king', 'woman'],  \n",
    "    negative=['man'],            \n",
    "    topn=5                       \n",
    ") "
   ]
  },
  {
   "cell_type": "code",
   "execution_count": 10,
   "id": "1bb8faca-ba2a-4984-9bdc-47785c14faaa",
   "metadata": {},
   "outputs": [
    {
     "name": "stdout",
     "output_type": "stream",
     "text": [
      "\n",
      "Most similar words:\n",
      "queen (0.770)\n",
      "monarch (0.684)\n",
      "throne (0.676)\n",
      "daughter (0.659)\n",
      "princess (0.652)\n"
     ]
    }
   ],
   "source": [
    "print(\"\\nMost similar words:\")\n",
    "for word, score in results:\n",
    "    print(f\"{word} ({score:.3f})\") "
   ]
  }
 ],
 "metadata": {
  "kernelspec": {
   "display_name": "anaconda-panel-2023.05-py310",
   "language": "python",
   "name": "conda-env-anaconda-panel-2023.05-py310-py"
  },
  "language_info": {
   "codemirror_mode": {
    "name": "ipython",
    "version": 3
   },
   "file_extension": ".py",
   "mimetype": "text/x-python",
   "name": "python",
   "nbconvert_exporter": "python",
   "pygments_lexer": "ipython3",
   "version": "3.11.5"
  }
 },
 "nbformat": 4,
 "nbformat_minor": 5
}
