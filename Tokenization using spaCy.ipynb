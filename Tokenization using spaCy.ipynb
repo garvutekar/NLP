{
 "cells": [
  {
   "cell_type": "code",
   "execution_count": 5,
   "id": "4773b82d-815b-4273-aa37-922b69712127",
   "metadata": {},
   "outputs": [
    {
     "name": "stdout",
     "output_type": "stream",
     "text": [
      "Words and their types:\n",
      " SpaCy            Type: PROPN\n",
      " makes            Type: VERB\n",
      " text             Type: NOUN\n",
      " processing       Type: VERB\n",
      " easy             Type: ADV\n",
      " .                Type: PUNCT\n",
      " It               Type: PRON\n",
      " can              Type: AUX\n",
      " split            Type: VERB\n",
      " sentences        Type: NOUN\n",
      " and              Type: CCONJ\n",
      " identify         Type: VERB\n",
      " words            Type: NOUN\n",
      " .                Type: PUNCT\n",
      " SpaCy            Type: PROPN\n",
      " is               Type: AUX\n",
      " a                Type: DET\n",
      " popular          Type: ADJ\n",
      " Python           Type: PROPN\n",
      " library          Type: NOUN\n",
      " for              Type: ADP\n",
      " NLP              Type: PROPN\n",
      " tasks            Type: NOUN\n",
      " like             Type: ADP\n",
      " tokenization     Type: NOUN\n",
      " and              Type: CCONJ\n",
      " named            Type: VERB\n",
      " entity           Type: NOUN\n",
      " recognition      Type: NOUN\n",
      " .                Type: PUNCT\n",
      "\n",
      "Sentences:\n",
      "1. SpaCy makes text processing easy.\n",
      "2. It can split sentences and identify words.\n",
      "3. SpaCy is a popular Python library for NLP tasks like tokenization and named entity recognition.\n"
     ]
    }
   ],
   "source": [
    "import spacy\n",
    "\n",
    "nlp = spacy.load(\"en_core_web_sm\")\n",
    "\n",
    "paragraph = \"SpaCy makes text processing easy. It can split sentences and identify words.SpaCy is a popular Python library for NLP tasks like tokenization and named entity recognition.\"\n",
    "\n",
    "doc = nlp(paragraph)\n",
    "\n",
    "print(\"Words and their types:\")\n",
    "for word in doc:\n",
    "    print(f\" {word.text.ljust(15)}  Type: {word.pos_}\")\n",
    "\n",
    "print(\"\\nSentences:\")\n",
    "for i, sentence in enumerate(doc.sents, 1):\n",
    "    print(f\"{i}. {sentence.text}\")"
   ]
  }
 ],
 "metadata": {
  "kernelspec": {
   "display_name": "anaconda-panel-2023.05-py310",
   "language": "python",
   "name": "conda-env-anaconda-panel-2023.05-py310-py"
  },
  "language_info": {
   "codemirror_mode": {
    "name": "ipython",
    "version": 3
   },
   "file_extension": ".py",
   "mimetype": "text/x-python",
   "name": "python",
   "nbconvert_exporter": "python",
   "pygments_lexer": "ipython3",
   "version": "3.11.5"
  }
 },
 "nbformat": 4,
 "nbformat_minor": 5
}
