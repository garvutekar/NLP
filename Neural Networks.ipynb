{
 "cells": [
  {
   "cell_type": "code",
   "execution_count": 9,
   "id": "0d57c0d1-9833-4df7-92d2-6f3936758bc0",
   "metadata": {},
   "outputs": [],
   "source": [
    "#Input Layer       Hidden Layer       Output Layer\n",
    "   # x1    ───────→   h1       ───────→     y"
   ]
  },
  {
   "cell_type": "code",
   "execution_count": 10,
   "id": "4fdccda5-c88f-4600-9df9-77ff9720678f",
   "metadata": {},
   "outputs": [],
   "source": [
    "#Sigmoid: Squashes values to [0, 1]. Used for binary classification (output layer). Formula: σ(z) = 1 / (1 + e⁻ᶻ).\n",
    "\n",
    "#ReLU (Rectified Linear Unit): Outputs max(0, z). Used in hidden layers for faster training."
   ]
  },
  {
   "cell_type": "code",
   "execution_count": 11,
   "id": "6c72d039-ddd4-452a-8c53-7d47630c1e43",
   "metadata": {},
   "outputs": [],
   "source": [
    "import numpy as np"
   ]
  },
  {
   "cell_type": "code",
   "execution_count": 12,
   "id": "f280e45b-4061-44b7-8dfb-d88f050fce02",
   "metadata": {},
   "outputs": [],
   "source": [
    "questions = np.array([[0.1, 0.2], \n",
    "                     [0.3, 0.4], \n",
    "                     [0.5, 0.6]])\n",
    "answers = np.array([[0], [1], [1]])  \n",
    "\n",
    "first_guess = np.random.rand(2, 3)  \n",
    "second_guess = np.random.rand(3, 1)  \n",
    "b1 = np.zeros(3) \n",
    "b2 = np.zeros(1)  "
   ]
  },
  {
   "cell_type": "code",
   "execution_count": 13,
   "id": "9ed3cd0d-eb0c-47c7-82bb-4021bba0e6e3",
   "metadata": {},
   "outputs": [],
   "source": [
    "middle_before = np.dot(questions, first_guess) + b1\n",
    "middle_after = np.maximum(0, middle_before)  "
   ]
  },
  {
   "cell_type": "code",
   "execution_count": 14,
   "id": "12b470d7-194e-4988-a400-435543a5725e",
   "metadata": {},
   "outputs": [
    {
     "name": "stdout",
     "output_type": "stream",
     "text": [
      "First try answers:\n",
      " [[0.55344679]\n",
      " [0.62140209]\n",
      " [0.68490376]]\n"
     ]
    }
   ],
   "source": [
    "final_before = np.dot(middle_after, second_guess) + b2\n",
    "final_answer = 1 / (1 + np.exp(-final_before))  \n",
    "\n",
    "print(\"First try answers:\\n\", final_answer)"
   ]
  },
  {
   "cell_type": "code",
   "execution_count": 15,
   "id": "6c1d75cb-2da7-4e05-8a81-405303206871",
   "metadata": {},
   "outputs": [
    {
     "name": "stdout",
     "output_type": "stream",
     "text": [
      "New answers:\n",
      " [[0.53541002]\n",
      " [0.57862925]\n",
      " [0.62067638]]\n"
     ]
    }
   ],
   "source": [
    "second_guess[0] = 0.5   \n",
    "second_guess[1] = -0.2  \n",
    "\n",
    "middle_after = np.maximum(0, np.dot(questions, first_guess) + b1)\n",
    "new_answer = 1 / (1 + np.exp(-np.dot(middle_after, second_guess) + b2))\n",
    "\n",
    "print(\"New answers:\\n\", new_answer)"
   ]
  }
 ],
 "metadata": {
  "kernelspec": {
   "display_name": "anaconda-panel-2023.05-py310",
   "language": "python",
   "name": "conda-env-anaconda-panel-2023.05-py310-py"
  },
  "language_info": {
   "codemirror_mode": {
    "name": "ipython",
    "version": 3
   },
   "file_extension": ".py",
   "mimetype": "text/x-python",
   "name": "python",
   "nbconvert_exporter": "python",
   "pygments_lexer": "ipython3",
   "version": "3.11.5"
  }
 },
 "nbformat": 4,
 "nbformat_minor": 5
}
