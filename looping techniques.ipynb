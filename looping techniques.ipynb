{
 "cells": [
  {
   "cell_type": "code",
   "execution_count": 4,
   "id": "d380c0a3-94f4-4675-aa32-0a7a05958a67",
   "metadata": {},
   "outputs": [
    {
     "name": "stdout",
     "output_type": "stream",
     "text": [
      "1st : gold\n",
      "2nd : silver\n",
      "3rd : bronze\n",
      "rest : certificate\n"
     ]
    }
   ],
   "source": [
    "sports = {'1st': 'gold', '2nd': 'silver','3rd': 'bronze', 'rest': 'certificate'}\n",
    "for i,j in sports.items():\n",
    "    print(i,\":\",j)"
   ]
  },
  {
   "cell_type": "code",
   "execution_count": 9,
   "id": "42d6f608-2eca-45c9-8c7d-a27870c0b271",
   "metadata": {},
   "outputs": [
    {
     "name": "stdout",
     "output_type": "stream",
     "text": [
      "0 certficate\n",
      "1 gold\n",
      "2 silver\n",
      "3 bronze\n"
     ]
    }
   ],
   "source": [
    "for i,j in enumerate(['certficate','gold', 'silver', 'bronze']):\n",
    "    print(i,j)"
   ]
  },
  {
   "cell_type": "code",
   "execution_count": 13,
   "id": "0e198038-0d21-4db5-ac87-5ca6ed046490",
   "metadata": {},
   "outputs": [
    {
     "name": "stdout",
     "output_type": "stream",
     "text": [
      "Name garv?  Major is Comp sci.\n",
      "Name dhruva?  Major is Business.\n",
      "Name leisha?  Major is BMS.\n"
     ]
    }
   ],
   "source": [
    "name = ['garv', 'dhruva', 'leisha']\n",
    "majors = ['Comp sci', 'Business', 'BMS']\n",
    "for i,j in zip(name,majors):\n",
    "    print('Name {0}?  Major is {1}.'.format(i,j))"
   ]
  },
  {
   "cell_type": "code",
   "execution_count": 17,
   "id": "cae31a4a-6a9c-4fb9-9cc8-da3ae5af5e80",
   "metadata": {},
   "outputs": [
    {
     "name": "stdout",
     "output_type": "stream",
     "text": [
      "96\n",
      "91\n",
      "86\n",
      "81\n",
      "76\n",
      "71\n",
      "66\n",
      "61\n",
      "56\n",
      "51\n",
      "46\n",
      "41\n",
      "36\n",
      "31\n",
      "26\n",
      "21\n",
      "16\n",
      "11\n",
      "6\n",
      "1\n"
     ]
    }
   ],
   "source": [
    "for i in reversed(range(1, 100,5)):\n",
    "    print(i)"
   ]
  },
  {
   "cell_type": "code",
   "execution_count": 21,
   "id": "4d66beb6-c6f7-43ca-8ef9-02e2149d98f5",
   "metadata": {},
   "outputs": [
    {
     "name": "stdout",
     "output_type": "stream",
     "text": [
      "a\n",
      "b\n",
      "c\n",
      "e\n",
      "f\n",
      "z\n",
      "\n",
      "1\n",
      "1\n",
      "2\n",
      "4\n",
      "4\n",
      "5\n",
      "6\n",
      "7\n",
      "7\n",
      "7\n",
      "8\n",
      "8\n",
      "9\n"
     ]
    }
   ],
   "source": [
    "letters = ['a', 'b', 'c', 'e', 'z', 'f']\n",
    "for i in sorted(letters):\n",
    "    print(i)\n",
    "\n",
    "print()\n",
    "\n",
    "numbers = [1,4,5,6,7,2,7,8,4,7,9,8,1]\n",
    "for a in sorted(numbers):\n",
    "    print(a)"
   ]
  },
  {
   "cell_type": "code",
   "execution_count": null,
   "id": "41b1dd84-6b45-4de0-a777-93e266527e5b",
   "metadata": {},
   "outputs": [],
   "source": [
    "letters = ['a', 'b', 'c', 'e', 'z', 'f','a', 'b', 'c', 'e', 'z', 'f']\n",
    "for j in sorted(letters):\n",
    "    print(j)"
   ]
  }
 ],
 "metadata": {
  "kernelspec": {
   "display_name": "anaconda-panel-2023.05-py310",
   "language": "python",
   "name": "conda-env-anaconda-panel-2023.05-py310-py"
  },
  "language_info": {
   "codemirror_mode": {
    "name": "ipython",
    "version": 3
   },
   "file_extension": ".py",
   "mimetype": "text/x-python",
   "name": "python",
   "nbconvert_exporter": "python",
   "pygments_lexer": "ipython3",
   "version": "3.11.5"
  }
 },
 "nbformat": 4,
 "nbformat_minor": 5
}
