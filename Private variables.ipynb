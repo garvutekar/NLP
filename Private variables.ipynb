{
 "cells": [
  {
   "cell_type": "code",
   "execution_count": 7,
   "id": "6bea9f05-c428-480a-bd18-3ee09e04b213",
   "metadata": {},
   "outputs": [],
   "source": [
    "class Numbers:\n",
    "    def __init__(self,name):\n",
    "        self.name = name\n",
    "        self.A = 10\n",
    "        self.B = 20\n",
    "        self.__C = 30\n",
    "\n",
    "    def display(self):\n",
    "        print(\"First number:-\",self.A)\n",
    "        print(\"Second number:-\",self.B)\n",
    "        print(\"Third number:-\",self.__C)"
   ]
  },
  {
   "cell_type": "code",
   "execution_count": 10,
   "id": "517cff21-e20a-43d8-879a-3cf0fa752d68",
   "metadata": {},
   "outputs": [
    {
     "name": "stdout",
     "output_type": "stream",
     "text": [
      "Harsh\n",
      "10\n",
      "20\n",
      "First number:- 10\n",
      "Second number:- 20\n",
      "Third number:- 30\n"
     ]
    }
   ],
   "source": [
    "ob1 = Numbers('Harsh')\n",
    "print(ob1.name)\n",
    "print(ob1.A)\n",
    "print(ob1.B)\n",
    "\n",
    "#print(ob1.__C)\n",
    "# Error shown- AttributeError: 'Numbers' object has no attribute '__C'\n",
    "\n",
    "ob1.display()"
   ]
  }
 ],
 "metadata": {
  "kernelspec": {
   "display_name": "anaconda-panel-2023.05-py310",
   "language": "python",
   "name": "conda-env-anaconda-panel-2023.05-py310-py"
  },
  "language_info": {
   "codemirror_mode": {
    "name": "ipython",
    "version": 3
   },
   "file_extension": ".py",
   "mimetype": "text/x-python",
   "name": "python",
   "nbconvert_exporter": "python",
   "pygments_lexer": "ipython3",
   "version": "3.11.5"
  }
 },
 "nbformat": 4,
 "nbformat_minor": 5
}
