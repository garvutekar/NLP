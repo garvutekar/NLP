{
 "cells": [
  {
   "cell_type": "code",
   "execution_count": 1,
   "id": "bd977d37-1e86-428b-9c94-a663938cbf2c",
   "metadata": {},
   "outputs": [],
   "source": [
    "from nltk.corpus import wordnet"
   ]
  },
  {
   "cell_type": "code",
   "execution_count": 2,
   "id": "d870aaea-5b17-4a78-81df-8899b18879db",
   "metadata": {},
   "outputs": [],
   "source": [
    "def how_similar(word1, word2):\n",
    "    meaning1 = wordnet.synsets(word1)\n",
    "    meaning2 = wordnet.synsets(word2)\n",
    "    \n",
    "    if not meaning1 or not meaning2:\n",
    "        print(f\"Couldn't find one or both words: {word1}, {word2}\")\n",
    "        return 0\n",
    "        \n",
    "    similarity = meaning1[0].wup_similarity(meaning2[0])\n",
    "    \n",
    "    if similarity is None:\n",
    "        return 0\n",
    "    \n",
    "    return similarity"
   ]
  },
  {
   "cell_type": "code",
   "execution_count": 3,
   "id": "9582db5a-62d7-4c75-a923-557a927298ac",
   "metadata": {},
   "outputs": [
    {
     "name": "stdout",
     "output_type": "stream",
     "text": [
      "'dog' and 'cat': 0.86\n",
      "'happy' and 'joyful': 0.50\n",
      "'car' and 'banana': 0.38\n",
      "'big' and 'small': 0.22\n",
      "'computer' and 'laptop': 0.82\n"
     ]
    }
   ],
   "source": [
    "pairs = [\n",
    "            ('dog', 'cat'),\n",
    "            ('happy', 'joyful'),\n",
    "            ('car', 'banana'),\n",
    "            ('big', 'small'),\n",
    "            ('computer', 'laptop')\n",
    "        ]\n",
    "\n",
    "for word1, word2 in pairs:\n",
    "    score = how_similar(word1, word2)\n",
    "    print(f\"'{word1}' and '{word2}': {score:.2f}\")"
   ]
  }
 ],
 "metadata": {
  "kernelspec": {
   "display_name": "anaconda-panel-2023.05-py310",
   "language": "python",
   "name": "conda-env-anaconda-panel-2023.05-py310-py"
  },
  "language_info": {
   "codemirror_mode": {
    "name": "ipython",
    "version": 3
   },
   "file_extension": ".py",
   "mimetype": "text/x-python",
   "name": "python",
   "nbconvert_exporter": "python",
   "pygments_lexer": "ipython3",
   "version": "3.11.5"
  }
 },
 "nbformat": 4,
 "nbformat_minor": 5
}
