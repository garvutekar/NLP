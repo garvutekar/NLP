{
 "cells": [
  {
   "cell_type": "code",
   "execution_count": 10,
   "id": "8260b279-4172-41aa-bbba-493bc5280d5e",
   "metadata": {},
   "outputs": [
    {
     "name": "stdout",
     "output_type": "stream",
     "text": [
      "Named Entities Found:\n",
      " Apple Inc.               \tType: ORG\tMeaning: Companies, agencies, institutions, etc.\n",
      " iPhone                   \tType: ORG\tMeaning: Companies, agencies, institutions, etc.\n",
      " Cupertino                \tType: GPE\tMeaning: Countries, cities, states\n",
      " yesterday                \tType: DATE\tMeaning: Absolute or relative dates or periods\n",
      " Tim Cook                 \tType: PERSON\tMeaning: People, including fictional\n",
      " 999.The                  \tType: MONEY\tMeaning: Monetary values, including unit\n",
      " 1,200                    \tType: CARDINAL\tMeaning: Numerals that do not fall under another type\n",
      " Apple Park               \tType: FAC\tMeaning: Buildings, airports, highways, bridges, etc.\n"
     ]
    }
   ],
   "source": [
    "import spacy\n",
    "\n",
    "nlp = spacy.load(\"en_core_web_sm\")\n",
    "\n",
    "article = \"\"\" Apple Inc. announced its new iPhone in Cupertino yesterday.CEO Tim Cook revealed the device will cost $999.The launch event was attended by 1,200 people at Apple Park.\"\"\"\n",
    "\n",
    "doc = nlp(article)\n",
    "\n",
    "print(\"Named Entities Found:\")\n",
    "for entity in doc.ents:\n",
    "    print(f\" {entity.text.ljust(25)}\\tType: {entity.label_}\\tMeaning: {spacy.explain(entity.label_)}\")"
   ]
  }
 ],
 "metadata": {
  "kernelspec": {
   "display_name": "anaconda-panel-2023.05-py310",
   "language": "python",
   "name": "conda-env-anaconda-panel-2023.05-py310-py"
  },
  "language_info": {
   "codemirror_mode": {
    "name": "ipython",
    "version": 3
   },
   "file_extension": ".py",
   "mimetype": "text/x-python",
   "name": "python",
   "nbconvert_exporter": "python",
   "pygments_lexer": "ipython3",
   "version": "3.11.5"
  }
 },
 "nbformat": 4,
 "nbformat_minor": 5
}
