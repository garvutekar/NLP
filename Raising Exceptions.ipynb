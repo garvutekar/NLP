{
 "cells": [
  {
   "cell_type": "code",
   "execution_count": null,
   "id": "b9c78606-5961-4cc6-b330-0869463b8043",
   "metadata": {},
   "outputs": [],
   "source": [
    "try:\n",
    "    age = int(input(\"Enter your age for voting\"))\n",
    "    if age<18:\n",
    "        raise ValueError\n",
    "    else:\n",
    "        print(\"You are eligible to vote\")\n",
    "\n",
    "except ValueError:\n",
    "    print(\"You are not eligibe to vote as the required age is 18 and above try to vote\",18-age,\"years later\")"
   ]
  },
  {
   "cell_type": "code",
   "execution_count": null,
   "id": "f5f8455f-af5e-470a-89b2-d0f7ad6fcff2",
   "metadata": {},
   "outputs": [],
   "source": []
  }
 ],
 "metadata": {
  "kernelspec": {
   "display_name": "anaconda-panel-2023.05-py310",
   "language": "python",
   "name": "conda-env-anaconda-panel-2023.05-py310-py"
  },
  "language_info": {
   "codemirror_mode": {
    "name": "ipython",
    "version": 3
   },
   "file_extension": ".py",
   "mimetype": "text/x-python",
   "name": "python",
   "nbconvert_exporter": "python",
   "pygments_lexer": "ipython3",
   "version": "3.11.5"
  }
 },
 "nbformat": 4,
 "nbformat_minor": 5
}
