{
 "cells": [
  {
   "cell_type": "code",
   "execution_count": 1,
   "id": "aa9b39ac-9dcc-49ff-aa02-89f8353c855c",
   "metadata": {},
   "outputs": [],
   "source": [
    "import nltk"
   ]
  },
  {
   "cell_type": "code",
   "execution_count": 2,
   "id": "80b05ef8-7035-4b6e-8db1-a160782ab386",
   "metadata": {},
   "outputs": [],
   "source": [
    "from nltk.corpus import stopwords"
   ]
  },
  {
   "cell_type": "code",
   "execution_count": 3,
   "id": "65a9369b-0cc3-446a-8582-191dc14f1893",
   "metadata": {},
   "outputs": [
    {
     "name": "stderr",
     "output_type": "stream",
     "text": [
      "[nltk_data] Downloading package stopwords to\n",
      "[nltk_data]     /home/c4aa6a31-8778-4e79-96de-\n",
      "[nltk_data]     ab90cdd4435a/nltk_data...\n",
      "[nltk_data]   Package stopwords is already up-to-date!\n"
     ]
    },
    {
     "data": {
      "text/plain": [
       "True"
      ]
     },
     "execution_count": 3,
     "metadata": {},
     "output_type": "execute_result"
    }
   ],
   "source": [
    "nltk.download('stopwords')"
   ]
  },
  {
   "cell_type": "code",
   "execution_count": 4,
   "id": "c3dfaee2-d5cb-4f55-baa3-3927f7fb073a",
   "metadata": {},
   "outputs": [],
   "source": [
    "word = stopwords.words('english')"
   ]
  },
  {
   "cell_type": "code",
   "execution_count": 5,
   "id": "f27dc95f-2da4-4c8f-a4df-f4f1a3290f1b",
   "metadata": {},
   "outputs": [
    {
     "name": "stdout",
     "output_type": "stream",
     "text": [
      "All stop words are: ['a', 'about', 'above', 'after', 'again', 'against', 'ain', 'all', 'am', 'an', 'and', 'any', 'are', 'aren', \"aren't\", 'as', 'at', 'be', 'because', 'been', 'before', 'being', 'below', 'between', 'both', 'but', 'by', 'can', 'couldn', \"couldn't\", 'd', 'did', 'didn', \"didn't\", 'do', 'does', 'doesn', \"doesn't\", 'doing', 'don', \"don't\", 'down', 'during', 'each', 'few', 'for', 'from', 'further', 'had', 'hadn', \"hadn't\", 'has', 'hasn', \"hasn't\", 'have', 'haven', \"haven't\", 'having', 'he', \"he'd\", \"he'll\", 'her', 'here', 'hers', 'herself', \"he's\", 'him', 'himself', 'his', 'how', 'i', \"i'd\", 'if', \"i'll\", \"i'm\", 'in', 'into', 'is', 'isn', \"isn't\", 'it', \"it'd\", \"it'll\", \"it's\", 'its', 'itself', \"i've\", 'just', 'll', 'm', 'ma', 'me', 'mightn', \"mightn't\", 'more', 'most', 'mustn', \"mustn't\", 'my', 'myself', 'needn', \"needn't\", 'no', 'nor', 'not', 'now', 'o', 'of', 'off', 'on', 'once', 'only', 'or', 'other', 'our', 'ours', 'ourselves', 'out', 'over', 'own', 're', 's', 'same', 'shan', \"shan't\", 'she', \"she'd\", \"she'll\", \"she's\", 'should', 'shouldn', \"shouldn't\", \"should've\", 'so', 'some', 'such', 't', 'than', 'that', \"that'll\", 'the', 'their', 'theirs', 'them', 'themselves', 'then', 'there', 'these', 'they', \"they'd\", \"they'll\", \"they're\", \"they've\", 'this', 'those', 'through', 'to', 'too', 'under', 'until', 'up', 've', 'very', 'was', 'wasn', \"wasn't\", 'we', \"we'd\", \"we'll\", \"we're\", 'were', 'weren', \"weren't\", \"we've\", 'what', 'when', 'where', 'which', 'while', 'who', 'whom', 'why', 'will', 'with', 'won', \"won't\", 'wouldn', \"wouldn't\", 'y', 'you', \"you'd\", \"you'll\", 'your', \"you're\", 'yours', 'yourself', 'yourselves', \"you've\"]\n"
     ]
    }
   ],
   "source": [
    "print(\"All stop words are:\",word)"
   ]
  },
  {
   "cell_type": "code",
   "execution_count": 6,
   "id": "6a4b6cab-8a64-4441-a5d4-80da8d249cab",
   "metadata": {},
   "outputs": [],
   "source": [
    "text = \"Hi today i learnt the basic of NLP on the jupyter notebook\""
   ]
  },
  {
   "cell_type": "code",
   "execution_count": 7,
   "id": "1d5f9669-643c-4fa6-b80e-0fa59a8cbb49",
   "metadata": {},
   "outputs": [],
   "source": [
    "text1 = nltk.word_tokenize(text)"
   ]
  },
  {
   "cell_type": "code",
   "execution_count": 8,
   "id": "dc098d74-f6fc-4002-9302-8404bff657fb",
   "metadata": {},
   "outputs": [],
   "source": [
    "text2 = [word1 for word1 in text1 if not word1 in word]"
   ]
  },
  {
   "cell_type": "code",
   "execution_count": 9,
   "id": "9ffc35f5-a378-4a37-ba7e-458b89949f6f",
   "metadata": {},
   "outputs": [],
   "source": [
    "text3 = [word2 for word2 in text1 if not word2 in word]"
   ]
  },
  {
   "cell_type": "code",
   "execution_count": 10,
   "id": "cdb062be-80c1-4eeb-a388-ac3a30b03158",
   "metadata": {},
   "outputs": [
    {
     "name": "stdout",
     "output_type": "stream",
     "text": [
      "Original text: Hi today i learnt the basic of NLP on the jupyter notebook\n"
     ]
    }
   ],
   "source": [
    "print(\"Original text:\",text)"
   ]
  },
  {
   "cell_type": "code",
   "execution_count": 11,
   "id": "1070bec8-2e82-418b-a2d4-c07d83b25e25",
   "metadata": {},
   "outputs": [
    {
     "name": "stdout",
     "output_type": "stream",
     "text": [
      "Original tokenized text: ['Hi', 'today', 'i', 'learnt', 'the', 'basic', 'of', 'NLP', 'on', 'the', 'jupyter', 'notebook']\n"
     ]
    }
   ],
   "source": [
    "print(\"Original tokenized text:\",text1)"
   ]
  },
  {
   "cell_type": "code",
   "execution_count": 12,
   "id": "bf64f7ad-d5b9-4799-94bd-3fee5b7529c4",
   "metadata": {},
   "outputs": [
    {
     "name": "stdout",
     "output_type": "stream",
     "text": [
      "Original text without stop words: ['Hi', 'today', 'learnt', 'basic', 'NLP', 'jupyter', 'notebook']\n"
     ]
    }
   ],
   "source": [
    "print(\"Original text without stop words:\",text2)"
   ]
  },
  {
   "cell_type": "code",
   "execution_count": 13,
   "id": "b2ef051c-be6c-46d0-8c30-b72108c65b64",
   "metadata": {},
   "outputs": [
    {
     "name": "stdout",
     "output_type": "stream",
     "text": [
      "Original tokenized text without stop words: ['Hi', 'today', 'learnt', 'basic', 'NLP', 'jupyter', 'notebook']\n"
     ]
    }
   ],
   "source": [
    "print(\"Original tokenized text without stop words:\",text3)"
   ]
  }
 ],
 "metadata": {
  "kernelspec": {
   "display_name": "anaconda-ai-2024.04-py310",
   "language": "python",
   "name": "conda-env-anaconda-ai-2024.04-py310-py"
  },
  "language_info": {
   "codemirror_mode": {
    "name": "ipython",
    "version": 3
   },
   "file_extension": ".py",
   "mimetype": "text/x-python",
   "name": "python",
   "nbconvert_exporter": "python",
   "pygments_lexer": "ipython3",
   "version": "3.10.13"
  }
 },
 "nbformat": 4,
 "nbformat_minor": 5
}
