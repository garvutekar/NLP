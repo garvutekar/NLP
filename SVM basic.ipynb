{
 "cells": [
  {
   "cell_type": "code",
   "execution_count": 2,
   "id": "8ce218f3-f6ab-461c-86e6-d8b2a95f69e2",
   "metadata": {},
   "outputs": [],
   "source": [
    "import numpy as np\n",
    "\n",
    "class SVM:\n",
    "    #Support Vector Machine classifier using gradient descent\n",
    "    \n",
    "    def __init__(self, learning_rate=0.001, lambda_param=0.01, n_iters=1000):\n",
    "    \n",
    "        #Initialize SVM classifier with:\n",
    "        # learning_rate: How big each gradient descent step should be\n",
    "        # lambda_param: Regularization parameter to prevent overfitting\n",
    "        # n_iters: Number of iterations for training\n",
    "        \n",
    "        self.lr = learning_rate\n",
    "        self.lambda_param = lambda_param\n",
    "        self.n_iters = n_iters\n",
    "        self.w = None  # Will store the weight vector after training\n",
    "        self.b = None  # Will store the bias term after training\n",
    "\n",
    "    def fit(self, X, y):\n",
    "        #Train the SVM model on the given data.\n",
    "        \n",
    "        # Get number of samples (n_samples) and features (n_features)\n",
    "        n_samples, n_features = X.shape\n",
    "        \n",
    "        # Convert labels to -1 or 1 (SVM requires this format)\n",
    "        y_ = np.where(y <= 0, -1, 1)\n",
    "        \n",
    "        # Initialize weights and bias to zeros\n",
    "        self.w = np.zeros(n_features)\n",
    "        self.b = 0\n",
    "\n",
    "        # Gradient descent optimization\n",
    "        for _ in range(self.n_iters):\n",
    "            for idx, x_i in enumerate(X):\n",
    "                # Check if current sample is correctly classified with margin\n",
    "                condition = y_[idx] * (np.dot(x_i, self.w) - self.b) >= 1\n",
    "                \n",
    "                if condition:\n",
    "                    # If correct with margin, just apply regularization\n",
    "                    self.w -= self.lr * (2 * self.lambda_param * self.w)\n",
    "                else:\n",
    "                    # If wrong or within margin, update weights and bias\n",
    "                    self.w -= self.lr * (2 * self.lambda_param * self.w - np.dot(x_i, y_[idx]))\n",
    "                    self.b -= self.lr * y_[idx]\n",
    "\n",
    "    def predict(self, X):\n",
    "        #Predict class labels for samples in X\n",
    "        # Calculate the decision function (distance from hyperplane)\n",
    "        linear_output = np.dot(X, self.w) - self.b\n",
    "        \n",
    "        # Return predictions (-1 or 1) based on which side of hyperplane\n",
    "        return np.sign(linear_output)"
   ]
  },
  {
   "cell_type": "code",
   "execution_count": 3,
   "id": "ee897730-e620-464d-be2c-53354976c2f8",
   "metadata": {},
   "outputs": [
    {
     "name": "stdout",
     "output_type": "stream",
     "text": [
      "Accuracy: 1.0\n"
     ]
    }
   ],
   "source": [
    "from sklearn import datasets  \n",
    "from sklearn.model_selection import train_test_split  \n",
    "from sklearn.metrics import accuracy_score \n",
    "import numpy as np\n",
    "\n",
    "X, y = datasets.make_blobs(\n",
    "    n_samples=100,  # Total number of data points\n",
    "    centers=2,      # Number of classes/groups\n",
    "    random_state=42 # Fixed random seed\n",
    ")\n",
    "\n",
    "y = np.where(y == 0, -1, 1)\n",
    "\n",
    "\n",
    "X_train, X_test, y_train, y_test = train_test_split(X, y, test_size=0.2,  random_state=42)\n",
    "\n",
    "svm = SVM()  \n",
    "\n",
    "svm.fit(X_train, y_train)\n",
    "\n",
    "y_pred = svm.predict(X_test)\n",
    "\n",
    "accuracy = accuracy_score(y_test, y_pred)\n",
    "\n",
    "# Print the accuracy as a percentage\n",
    "print(\"Accuracy:\", accuracy)  "
   ]
  }
 ],
 "metadata": {
  "kernelspec": {
   "display_name": "anaconda-panel-2023.05-py310",
   "language": "python",
   "name": "conda-env-anaconda-panel-2023.05-py310-py"
  },
  "language_info": {
   "codemirror_mode": {
    "name": "ipython",
    "version": 3
   },
   "file_extension": ".py",
   "mimetype": "text/x-python",
   "name": "python",
   "nbconvert_exporter": "python",
   "pygments_lexer": "ipython3",
   "version": "3.11.5"
  }
 },
 "nbformat": 4,
 "nbformat_minor": 5
}
