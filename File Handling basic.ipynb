{
 "cells": [
  {
   "cell_type": "code",
   "execution_count": 1,
   "id": "9bf3818f-84ae-4ced-a581-16a532086a14",
   "metadata": {},
   "outputs": [],
   "source": [
    "a  = open('file1.txt','r')"
   ]
  },
  {
   "cell_type": "code",
   "execution_count": 2,
   "id": "287d351b-3ed7-4184-a0d9-4b0ebe529f97",
   "metadata": {},
   "outputs": [],
   "source": [
    "text = a.read()"
   ]
  },
  {
   "cell_type": "code",
   "execution_count": 3,
   "id": "028d10ca-5630-4d5e-a4b2-f96777ab7ed8",
   "metadata": {},
   "outputs": [
    {
     "name": "stdout",
     "output_type": "stream",
     "text": [
      "Hello! My name is Ronald,what's yours?\n"
     ]
    }
   ],
   "source": [
    "print(text)"
   ]
  },
  {
   "cell_type": "code",
   "execution_count": 4,
   "id": "4987ed23-c0c4-4bdb-ae9d-850a84008c88",
   "metadata": {},
   "outputs": [
    {
     "data": {
      "text/plain": [
       "<function TextIOWrapper.close()>"
      ]
     },
     "execution_count": 4,
     "metadata": {},
     "output_type": "execute_result"
    }
   ],
   "source": [
    "a.close"
   ]
  },
  {
   "cell_type": "code",
   "execution_count": 5,
   "id": "de3eec9d-a968-4343-8d8a-69228ca9cd8a",
   "metadata": {},
   "outputs": [],
   "source": [
    "b = open('file2.txt','x')"
   ]
  },
  {
   "cell_type": "code",
   "execution_count": 6,
   "id": "26379071-16c2-45c6-b70a-1e85e6ce010a",
   "metadata": {},
   "outputs": [],
   "source": [
    "c = open('file2.txt','w')"
   ]
  },
  {
   "cell_type": "code",
   "execution_count": 7,
   "id": "1e8b33e2-57d9-487e-be63-f7146ffab423",
   "metadata": {},
   "outputs": [
    {
     "data": {
      "text/plain": [
       "12"
      ]
     },
     "execution_count": 7,
     "metadata": {},
     "output_type": "execute_result"
    }
   ],
   "source": [
    "c.write('Hello World!')"
   ]
  },
  {
   "cell_type": "code",
   "execution_count": 8,
   "id": "9e31c86c-850e-45e9-ade8-a77de81eda2d",
   "metadata": {},
   "outputs": [],
   "source": [
    "c.close()"
   ]
  },
  {
   "cell_type": "code",
   "execution_count": 9,
   "id": "20cd3c2b-900c-4a21-a57d-bc747c1eb0f8",
   "metadata": {},
   "outputs": [],
   "source": [
    "d = open('file2.txt','a')"
   ]
  },
  {
   "cell_type": "code",
   "execution_count": 10,
   "id": "35ee3310-75a6-451e-baef-6f44ff91a3db",
   "metadata": {},
   "outputs": [
    {
     "data": {
      "text/plain": [
       "12"
      ]
     },
     "execution_count": 10,
     "metadata": {},
     "output_type": "execute_result"
    }
   ],
   "source": [
    "d.write('Hello World!')"
   ]
  },
  {
   "cell_type": "code",
   "execution_count": 11,
   "id": "92392c6a-b155-48a5-b822-1e72514c4173",
   "metadata": {},
   "outputs": [],
   "source": [
    "d.close()"
   ]
  },
  {
   "cell_type": "code",
   "execution_count": null,
   "id": "6d9d6439-c2de-4bc2-990b-2cafb6539ff8",
   "metadata": {},
   "outputs": [],
   "source": [
    "e = open('file2.txt','r')"
   ]
  },
  {
   "cell_type": "code",
   "execution_count": null,
   "id": "d7938ec6-c835-45da-8764-36bc94e39749",
   "metadata": {},
   "outputs": [],
   "source": [
    "content = e.read()"
   ]
  }
 ],
 "metadata": {
  "kernelspec": {
   "display_name": "anaconda-panel-2023.05-py310",
   "language": "python",
   "name": "conda-env-anaconda-panel-2023.05-py310-py"
  },
  "language_info": {
   "codemirror_mode": {
    "name": "ipython",
    "version": 3
   },
   "file_extension": ".py",
   "mimetype": "text/x-python",
   "name": "python",
   "nbconvert_exporter": "python",
   "pygments_lexer": "ipython3",
   "version": "3.11.5"
  }
 },
 "nbformat": 4,
 "nbformat_minor": 5
}
