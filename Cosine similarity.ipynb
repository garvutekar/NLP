{
 "cells": [
  {
   "cell_type": "code",
   "execution_count": 1,
   "id": "329a2e7e-db7b-48eb-974f-0e97e4481e2a",
   "metadata": {},
   "outputs": [],
   "source": [
    "from gensim.models import KeyedVectors\n",
    "import gensim.downloader as api\n",
    "import numpy as np"
   ]
  },
  {
   "cell_type": "code",
   "execution_count": 2,
   "id": "6625de47-26a0-482c-971a-700eb2316a0d",
   "metadata": {},
   "outputs": [],
   "source": [
    "model = api.load('glove-wiki-gigaword-100')  "
   ]
  },
  {
   "cell_type": "code",
   "execution_count": 3,
   "id": "4a0187a0-83b8-40a9-bd1a-eb40fb2538cf",
   "metadata": {},
   "outputs": [],
   "source": [
    "def word_similarity(word1, word2):\n",
    "    vec1 = model[word1]\n",
    "    vec2 = model[word2]\n",
    "    \n",
    "    dot_product = np.dot(vec1, vec2)\n",
    "    norm1 = np.linalg.norm(vec1)\n",
    "    norm2 = np.linalg.norm(vec2)\n",
    "    return dot_product / (norm1 * norm2)\n",
    "\n",
    "pairs = [\n",
    "            ('king', 'queen'),\n",
    "            ('cat', 'dog'),\n",
    "            ('computer', 'banana'),\n",
    "            ('happy', 'joyful'),\n",
    "            ('angry', 'delighted')\n",
    "        ]"
   ]
  },
  {
   "cell_type": "code",
   "execution_count": 5,
   "id": "4178011e-fb69-479a-a7db-72664eba700e",
   "metadata": {},
   "outputs": [
    {
     "name": "stdout",
     "output_type": "stream",
     "text": [
      "Word Similarities:\n",
      "king vs queen: 0.751\n",
      "cat vs dog: 0.880\n",
      "computer vs banana: 0.121\n",
      "happy vs joyful: 0.526\n",
      "angry vs delighted: 0.532\n"
     ]
    }
   ],
   "source": [
    "print(\"Word Similarities:\")\n",
    "for word1, word2 in pairs:\n",
    "    similarity = word_similarity(word1, word2)\n",
    "    print(f\"{word1} vs {word2}: {similarity:.3f}\")"
   ]
  }
 ],
 "metadata": {
  "kernelspec": {
   "display_name": "anaconda-panel-2023.05-py310",
   "language": "python",
   "name": "conda-env-anaconda-panel-2023.05-py310-py"
  },
  "language_info": {
   "codemirror_mode": {
    "name": "ipython",
    "version": 3
   },
   "file_extension": ".py",
   "mimetype": "text/x-python",
   "name": "python",
   "nbconvert_exporter": "python",
   "pygments_lexer": "ipython3",
   "version": "3.11.5"
  }
 },
 "nbformat": 4,
 "nbformat_minor": 5
}
