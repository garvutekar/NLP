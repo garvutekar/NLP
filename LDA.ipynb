{
 "cells": [
  {
   "cell_type": "code",
   "execution_count": 2,
   "id": "61899049-855a-43e3-b5d2-cfbd94690d44",
   "metadata": {},
   "outputs": [],
   "source": [
    "import pandas as pd"
   ]
  },
  {
   "cell_type": "code",
   "execution_count": 4,
   "id": "32e15674-ee31-4bd9-a269-aa1e2c063976",
   "metadata": {},
   "outputs": [],
   "source": [
    "news = pd.read_csv('news.csv')"
   ]
  },
  {
   "cell_type": "code",
   "execution_count": 5,
   "id": "d54b784e-7fe6-4273-b734-dc045996a15f",
   "metadata": {},
   "outputs": [
    {
     "data": {
      "text/html": [
       "<div>\n",
       "<style scoped>\n",
       "    .dataframe tbody tr th:only-of-type {\n",
       "        vertical-align: middle;\n",
       "    }\n",
       "\n",
       "    .dataframe tbody tr th {\n",
       "        vertical-align: top;\n",
       "    }\n",
       "\n",
       "    .dataframe thead th {\n",
       "        text-align: right;\n",
       "    }\n",
       "</style>\n",
       "<table border=\"1\" class=\"dataframe\">\n",
       "  <thead>\n",
       "    <tr style=\"text-align: right;\">\n",
       "      <th></th>\n",
       "      <th>Headlines</th>\n",
       "      <th>Unnamed: 1</th>\n",
       "      <th>Unnamed: 2</th>\n",
       "    </tr>\n",
       "  </thead>\n",
       "  <tbody>\n",
       "    <tr>\n",
       "      <th>0</th>\n",
       "      <td>Jim Cramer: A better way to invest in the Covi...</td>\n",
       "      <td>NaN</td>\n",
       "      <td>NaN</td>\n",
       "    </tr>\n",
       "    <tr>\n",
       "      <th>1</th>\n",
       "      <td>Cramer's lightning round: I would own Teradyne</td>\n",
       "      <td>NaN</td>\n",
       "      <td>NaN</td>\n",
       "    </tr>\n",
       "    <tr>\n",
       "      <th>2</th>\n",
       "      <td>NaN</td>\n",
       "      <td>NaN</td>\n",
       "      <td>NaN</td>\n",
       "    </tr>\n",
       "    <tr>\n",
       "      <th>3</th>\n",
       "      <td>Cramer's week ahead: Big week for earnings, ev...</td>\n",
       "      <td>NaN</td>\n",
       "      <td>NaN</td>\n",
       "    </tr>\n",
       "    <tr>\n",
       "      <th>4</th>\n",
       "      <td>IQ Capital CEO Keith Bliss says tech and healt...</td>\n",
       "      <td>NaN</td>\n",
       "      <td>NaN</td>\n",
       "    </tr>\n",
       "  </tbody>\n",
       "</table>\n",
       "</div>"
      ],
      "text/plain": [
       "                                           Headlines  Unnamed: 1  Unnamed: 2\n",
       "0  Jim Cramer: A better way to invest in the Covi...         NaN         NaN\n",
       "1     Cramer's lightning round: I would own Teradyne         NaN         NaN\n",
       "2                                                NaN         NaN         NaN\n",
       "3  Cramer's week ahead: Big week for earnings, ev...         NaN         NaN\n",
       "4  IQ Capital CEO Keith Bliss says tech and healt...         NaN         NaN"
      ]
     },
     "execution_count": 5,
     "metadata": {},
     "output_type": "execute_result"
    }
   ],
   "source": [
    "news.head()"
   ]
  },
  {
   "cell_type": "code",
   "execution_count": 6,
   "id": "698bd19c-279c-4096-8c9f-c928a5cd46a3",
   "metadata": {},
   "outputs": [
    {
     "data": {
      "text/plain": [
       "'Jim Cramer: A better way to invest in the Covid-19 vaccine gold rush'"
      ]
     },
     "execution_count": 6,
     "metadata": {},
     "output_type": "execute_result"
    }
   ],
   "source": [
    "news['Headlines'][0]"
   ]
  },
  {
   "cell_type": "code",
   "execution_count": 7,
   "id": "c51aef3a-b949-4061-aad3-89fc14ff59a4",
   "metadata": {},
   "outputs": [
    {
     "data": {
      "text/plain": [
       "3080"
      ]
     },
     "execution_count": 7,
     "metadata": {},
     "output_type": "execute_result"
    }
   ],
   "source": [
    "len(news)"
   ]
  },
  {
   "cell_type": "code",
   "execution_count": 8,
   "id": "1bb751cb-11dc-4719-a6cd-aa87cbe8379b",
   "metadata": {},
   "outputs": [],
   "source": [
    "from sklearn.feature_extraction.text import CountVectorizer"
   ]
  },
  {
   "cell_type": "code",
   "execution_count": 9,
   "id": "b04a149d-14f1-4e2c-98ba-2790eaba1cfa",
   "metadata": {},
   "outputs": [],
   "source": [
    "cv = CountVectorizer(max_df = 0.9,min_df = 2,stop_words = 'english')"
   ]
  },
  {
   "cell_type": "code",
   "execution_count": 12,
   "id": "8ccbba3f-5e29-42e0-a14f-9a11836a4924",
   "metadata": {},
   "outputs": [],
   "source": [
    "news['Headlines'] = news['Headlines'].fillna('')"
   ]
  },
  {
   "cell_type": "code",
   "execution_count": 13,
   "id": "fb89d098-26d9-4072-bbbd-b6c9ea8073bf",
   "metadata": {},
   "outputs": [],
   "source": [
    "dtm = cv.fit_transform(news['Headlines'])"
   ]
  },
  {
   "cell_type": "code",
   "execution_count": 14,
   "id": "4f62329f-c578-4850-849b-15b74571ab43",
   "metadata": {},
   "outputs": [
    {
     "data": {
      "text/plain": [
       "<3080x2066 sparse matrix of type '<class 'numpy.int64'>'\n",
       "\twith 20706 stored elements in Compressed Sparse Row format>"
      ]
     },
     "execution_count": 14,
     "metadata": {},
     "output_type": "execute_result"
    }
   ],
   "source": [
    "dtm"
   ]
  },
  {
   "cell_type": "code",
   "execution_count": 17,
   "id": "83e3f9b1-ab96-4aab-836c-7af7be1b093e",
   "metadata": {},
   "outputs": [],
   "source": [
    "from sklearn.decomposition import LatentDirichletAllocation"
   ]
  },
  {
   "cell_type": "code",
   "execution_count": 18,
   "id": "c3cbaa4b-19b0-4975-b10b-c5d220c52ad8",
   "metadata": {},
   "outputs": [],
   "source": [
    "LDA = LatentDirichletAllocation(n_components = 7,random_state = 42)"
   ]
  },
  {
   "cell_type": "code",
   "execution_count": 19,
   "id": "72a4952f-9e71-4bdc-9786-47b9d8c1435d",
   "metadata": {},
   "outputs": [
    {
     "data": {
      "text/html": [
       "<style>#sk-container-id-1 {color: black;}#sk-container-id-1 pre{padding: 0;}#sk-container-id-1 div.sk-toggleable {background-color: white;}#sk-container-id-1 label.sk-toggleable__label {cursor: pointer;display: block;width: 100%;margin-bottom: 0;padding: 0.3em;box-sizing: border-box;text-align: center;}#sk-container-id-1 label.sk-toggleable__label-arrow:before {content: \"▸\";float: left;margin-right: 0.25em;color: #696969;}#sk-container-id-1 label.sk-toggleable__label-arrow:hover:before {color: black;}#sk-container-id-1 div.sk-estimator:hover label.sk-toggleable__label-arrow:before {color: black;}#sk-container-id-1 div.sk-toggleable__content {max-height: 0;max-width: 0;overflow: hidden;text-align: left;background-color: #f0f8ff;}#sk-container-id-1 div.sk-toggleable__content pre {margin: 0.2em;color: black;border-radius: 0.25em;background-color: #f0f8ff;}#sk-container-id-1 input.sk-toggleable__control:checked~div.sk-toggleable__content {max-height: 200px;max-width: 100%;overflow: auto;}#sk-container-id-1 input.sk-toggleable__control:checked~label.sk-toggleable__label-arrow:before {content: \"▾\";}#sk-container-id-1 div.sk-estimator input.sk-toggleable__control:checked~label.sk-toggleable__label {background-color: #d4ebff;}#sk-container-id-1 div.sk-label input.sk-toggleable__control:checked~label.sk-toggleable__label {background-color: #d4ebff;}#sk-container-id-1 input.sk-hidden--visually {border: 0;clip: rect(1px 1px 1px 1px);clip: rect(1px, 1px, 1px, 1px);height: 1px;margin: -1px;overflow: hidden;padding: 0;position: absolute;width: 1px;}#sk-container-id-1 div.sk-estimator {font-family: monospace;background-color: #f0f8ff;border: 1px dotted black;border-radius: 0.25em;box-sizing: border-box;margin-bottom: 0.5em;}#sk-container-id-1 div.sk-estimator:hover {background-color: #d4ebff;}#sk-container-id-1 div.sk-parallel-item::after {content: \"\";width: 100%;border-bottom: 1px solid gray;flex-grow: 1;}#sk-container-id-1 div.sk-label:hover label.sk-toggleable__label {background-color: #d4ebff;}#sk-container-id-1 div.sk-serial::before {content: \"\";position: absolute;border-left: 1px solid gray;box-sizing: border-box;top: 0;bottom: 0;left: 50%;z-index: 0;}#sk-container-id-1 div.sk-serial {display: flex;flex-direction: column;align-items: center;background-color: white;padding-right: 0.2em;padding-left: 0.2em;position: relative;}#sk-container-id-1 div.sk-item {position: relative;z-index: 1;}#sk-container-id-1 div.sk-parallel {display: flex;align-items: stretch;justify-content: center;background-color: white;position: relative;}#sk-container-id-1 div.sk-item::before, #sk-container-id-1 div.sk-parallel-item::before {content: \"\";position: absolute;border-left: 1px solid gray;box-sizing: border-box;top: 0;bottom: 0;left: 50%;z-index: -1;}#sk-container-id-1 div.sk-parallel-item {display: flex;flex-direction: column;z-index: 1;position: relative;background-color: white;}#sk-container-id-1 div.sk-parallel-item:first-child::after {align-self: flex-end;width: 50%;}#sk-container-id-1 div.sk-parallel-item:last-child::after {align-self: flex-start;width: 50%;}#sk-container-id-1 div.sk-parallel-item:only-child::after {width: 0;}#sk-container-id-1 div.sk-dashed-wrapped {border: 1px dashed gray;margin: 0 0.4em 0.5em 0.4em;box-sizing: border-box;padding-bottom: 0.4em;background-color: white;}#sk-container-id-1 div.sk-label label {font-family: monospace;font-weight: bold;display: inline-block;line-height: 1.2em;}#sk-container-id-1 div.sk-label-container {text-align: center;}#sk-container-id-1 div.sk-container {/* jupyter's `normalize.less` sets `[hidden] { display: none; }` but bootstrap.min.css set `[hidden] { display: none !important; }` so we also need the `!important` here to be able to override the default hidden behavior on the sphinx rendered scikit-learn.org. See: https://github.com/scikit-learn/scikit-learn/issues/21755 */display: inline-block !important;position: relative;}#sk-container-id-1 div.sk-text-repr-fallback {display: none;}</style><div id=\"sk-container-id-1\" class=\"sk-top-container\"><div class=\"sk-text-repr-fallback\"><pre>LatentDirichletAllocation(n_components=7, random_state=42)</pre><b>In a Jupyter environment, please rerun this cell to show the HTML representation or trust the notebook. <br />On GitHub, the HTML representation is unable to render, please try loading this page with nbviewer.org.</b></div><div class=\"sk-container\" hidden><div class=\"sk-item\"><div class=\"sk-estimator sk-toggleable\"><input class=\"sk-toggleable__control sk-hidden--visually\" id=\"sk-estimator-id-1\" type=\"checkbox\" checked><label for=\"sk-estimator-id-1\" class=\"sk-toggleable__label sk-toggleable__label-arrow\">LatentDirichletAllocation</label><div class=\"sk-toggleable__content\"><pre>LatentDirichletAllocation(n_components=7, random_state=42)</pre></div></div></div></div></div>"
      ],
      "text/plain": [
       "LatentDirichletAllocation(n_components=7, random_state=42)"
      ]
     },
     "execution_count": 19,
     "metadata": {},
     "output_type": "execute_result"
    }
   ],
   "source": [
    "LDA.fit(dtm)"
   ]
  },
  {
   "cell_type": "code",
   "execution_count": 21,
   "id": "a038b6bd-a0bf-4eb4-96bc-00f4b0feb651",
   "metadata": {},
   "outputs": [
    {
     "data": {
      "text/plain": [
       "2066"
      ]
     },
     "execution_count": 21,
     "metadata": {},
     "output_type": "execute_result"
    }
   ],
   "source": [
    "len(cv.get_feature_names_out())"
   ]
  },
  {
   "cell_type": "code",
   "execution_count": 22,
   "id": "ffd4730a-b5ec-42d1-85fa-44e5441eafc9",
   "metadata": {},
   "outputs": [
    {
     "data": {
      "text/plain": [
       "numpy.ndarray"
      ]
     },
     "execution_count": 22,
     "metadata": {},
     "output_type": "execute_result"
    }
   ],
   "source": [
    "type(cv.get_feature_names_out())"
   ]
  },
  {
   "cell_type": "code",
   "execution_count": 25,
   "id": "16c4a7a0-5ab3-49f9-93fa-5d157d2a4603",
   "metadata": {},
   "outputs": [
    {
     "data": {
      "text/plain": [
       "'fear'"
      ]
     },
     "execution_count": 25,
     "metadata": {},
     "output_type": "execute_result"
    }
   ],
   "source": [
    "cv.get_feature_names_out()[679]"
   ]
  },
  {
   "cell_type": "code",
   "execution_count": 26,
   "id": "84abe9b7-e913-4f89-a773-9ec379a05983",
   "metadata": {},
   "outputs": [
    {
     "data": {
      "text/plain": [
       "'barrick'"
      ]
     },
     "execution_count": 26,
     "metadata": {},
     "output_type": "execute_result"
    }
   ],
   "source": [
    "import random\n",
    "\n",
    "random_word = random.randint(0,784)\n",
    "cv.get_feature_names_out()[random_word]"
   ]
  },
  {
   "cell_type": "code",
   "execution_count": 27,
   "id": "27bf32bb-c67f-4e3f-ad4f-28d11754cbe9",
   "metadata": {},
   "outputs": [
    {
     "data": {
      "text/plain": [
       "7"
      ]
     },
     "execution_count": 27,
     "metadata": {},
     "output_type": "execute_result"
    }
   ],
   "source": [
    "len(LDA.components_)"
   ]
  },
  {
   "cell_type": "code",
   "execution_count": 28,
   "id": "71664f67-c3c7-47ac-ae5e-04601bb06eb1",
   "metadata": {},
   "outputs": [
    {
     "data": {
      "text/plain": [
       "numpy.ndarray"
      ]
     },
     "execution_count": 28,
     "metadata": {},
     "output_type": "execute_result"
    }
   ],
   "source": [
    "type(LDA.components_)"
   ]
  },
  {
   "cell_type": "code",
   "execution_count": 29,
   "id": "ac1b6bc5-1a91-4dab-9f46-a9536f3eb1de",
   "metadata": {},
   "outputs": [
    {
     "data": {
      "text/plain": [
       "(7, 2066)"
      ]
     },
     "execution_count": 29,
     "metadata": {},
     "output_type": "execute_result"
    }
   ],
   "source": [
    "LDA.components_.shape"
   ]
  },
  {
   "cell_type": "code",
   "execution_count": 30,
   "id": "fabc3b3d-ade3-4d37-ac81-314f023ba7f9",
   "metadata": {},
   "outputs": [
    {
     "data": {
      "text/plain": [
       "array([[ 2.54530543,  4.36917172,  0.1452271 , ...,  0.14303692,\n",
       "         0.14285761,  0.14285808],\n",
       "       [ 0.14300722,  0.14301149,  4.14223456, ...,  0.14333173,\n",
       "         0.1428573 ,  0.14484775],\n",
       "       [ 0.15898105,  0.1429168 ,  0.14313573, ...,  3.0057447 ,\n",
       "         0.14328638,  1.1428555 ],\n",
       "       ...,\n",
       "       [ 0.14288478, 13.95962432,  1.14304444, ...,  2.27821834,\n",
       "         2.14113873,  0.14285734],\n",
       "       [ 0.14285742,  2.31558602,  0.14343465, ...,  0.14285774,\n",
       "         0.14351244,  0.14317536],\n",
       "       [ 6.94069892,  0.14360999,  0.14329994, ...,  0.14285772,\n",
       "         0.14285742,  0.14285771]])"
      ]
     },
     "execution_count": 30,
     "metadata": {},
     "output_type": "execute_result"
    }
   ],
   "source": [
    "LDA.components_"
   ]
  },
  {
   "cell_type": "code",
   "execution_count": 31,
   "id": "77f6428e-4738-4e6d-8b44-5d9bf3b91247",
   "metadata": {},
   "outputs": [],
   "source": [
    "single_topic = LDA.components_[0]"
   ]
  },
  {
   "cell_type": "code",
   "execution_count": 32,
   "id": "ecd9a4e5-5cd0-4b1b-8fc0-7eeb6123d96c",
   "metadata": {},
   "outputs": [
    {
     "data": {
      "text/plain": [
       "array([1356,  219,  152, ...,  443, 1553,  314])"
      ]
     },
     "execution_count": 32,
     "metadata": {},
     "output_type": "execute_result"
    }
   ],
   "source": [
    "single_topic.argsort()"
   ]
  },
  {
   "cell_type": "code",
   "execution_count": 33,
   "id": "45962f89-d0b9-455a-8027-88e7856d5ab6",
   "metadata": {},
   "outputs": [],
   "source": [
    "import numpy as np"
   ]
  },
  {
   "cell_type": "code",
   "execution_count": 34,
   "id": "c4b843f5-f34a-4204-bdce-9c5f51d190bc",
   "metadata": {},
   "outputs": [],
   "source": [
    "arr = np.array([10.200,1])"
   ]
  },
  {
   "cell_type": "code",
   "execution_count": 35,
   "id": "3f4f548e-ce82-4d6b-96b0-5dcc8fc325bc",
   "metadata": {},
   "outputs": [
    {
     "data": {
      "text/plain": [
       "array([10.2,  1. ])"
      ]
     },
     "execution_count": 35,
     "metadata": {},
     "output_type": "execute_result"
    }
   ],
   "source": [
    "arr"
   ]
  },
  {
   "cell_type": "code",
   "execution_count": 36,
   "id": "4fff79cd-dd06-4414-8c32-fa2b3f10d595",
   "metadata": {},
   "outputs": [
    {
     "data": {
      "text/plain": [
       "array([1, 0])"
      ]
     },
     "execution_count": 36,
     "metadata": {},
     "output_type": "execute_result"
    }
   ],
   "source": [
    "arr.argsort()"
   ]
  },
  {
   "cell_type": "code",
   "execution_count": 40,
   "id": "26b33d55-098f-4db2-b1a0-748362f5d566",
   "metadata": {},
   "outputs": [
    {
     "data": {
      "text/plain": [
       "array([ 530,  583,  187, 1106, 1193,  945,  270, 1201, 1791, 1288,  587,\n",
       "       1195,  973,  921,  316,  288,  837,  443, 1553,  314])"
      ]
     },
     "execution_count": 40,
     "metadata": {},
     "output_type": "execute_result"
    }
   ],
   "source": [
    "single_topic.argsort()[-20:]"
   ]
  },
  {
   "cell_type": "code",
   "execution_count": 41,
   "id": "1e612cf3-d79d-4d23-bfbf-72c840cc074d",
   "metadata": {},
   "outputs": [],
   "source": [
    "top_ten = single_topic.argsort()[-20:]"
   ]
  },
  {
   "cell_type": "code",
   "execution_count": 42,
   "id": "08b6421f-79ed-4c9b-b178-87c4e4766719",
   "metadata": {},
   "outputs": [
    {
     "name": "stdout",
     "output_type": "stream",
     "text": [
      "digital\n",
      "ebay\n",
      "big\n",
      "market\n",
      "need\n",
      "investors\n",
      "calls\n",
      "new\n",
      "tech\n",
      "paypal\n",
      "economy\n",
      "needs\n",
      "just\n",
      "industry\n",
      "cfo\n",
      "care\n",
      "health\n",
      "cramer\n",
      "says\n",
      "ceo\n"
     ]
    }
   ],
   "source": [
    "for index in top_ten:\n",
    "    print(cv.get_feature_names_out()[index])"
   ]
  },
  {
   "cell_type": "code",
   "execution_count": 45,
   "id": "47c919d2-e681-4868-919a-518530d98e26",
   "metadata": {},
   "outputs": [
    {
     "name": "stdout",
     "output_type": "stream",
     "text": [
      "The top 20 words for Topic#0\n",
      "['ceo', 'says', 'cramer', 'health', 'care', 'cfo', 'industry', 'just', 'needs', 'economy', 'paypal', 'tech', 'new', 'calls', 'investors', 'need', 'market', 'big', 'ebay', 'digital']\n",
      "\n",
      "\n",
      "The top 20 words for Topic#1\n",
      "['cramer', 'round', 'lightning', 'stock', 'buy', 'don', 'like', 'term', 'stocks', 'long', 'play', 'want', 'good', 'ge', 'think', 'just', 'remix', 'ceo', 'company', 'sell']\n",
      "\n",
      "\n",
      "The top 20 words for Topic#2\n",
      "['cramer', 'earnings', 'week', 'fed', 'ahead', 'trump', 'game', 'plan', 'remix', 'china', 'apple', 'ceo', 'new', 'jim', 'season', 'tariffs', 'money', 'rate', 'report', 'mad']\n",
      "\n",
      "\n",
      "The top 20 words for Topic#3\n",
      "['cramer', 'ceo', 'says', 'market', 'china', 'trade', 'jim', 'street', 'wall', 'stock', 'rally', 'war', 'coronavirus', 'business', 'stocks', 'explains', 'companies', 'deal', 'big', 'salesforce']\n",
      "\n",
      "\n",
      "The top 20 words for Topic#4\n",
      "['cramer', 'jim', 'stocks', 'remix', 'market', 'says', 'stock', 'money', 'buy', 'including', 'mad', 'said', 'investors', 'sell', 'buying', 'apple', 'rally', 'run', 'amazon', 'don']\n",
      "\n",
      "\n",
      "The top 20 words for Topic#5\n",
      "['cramer', 'ceo', 'says', 'stocks', 'company', 'remix', 'tech', 'future', 'market', 'huge', 'markets', 'cannabis', 'oil', 'explains', 'ibm', 'like', 'lot', 'key', 'energy', 'going']\n",
      "\n",
      "\n",
      "The top 20 words for Topic#6\n",
      "['cramer', 'ceo', 'says', 'year', 'stocks', '500', 'remix', 'investors', 'charts', 'end', 'time', 'market', 'shares', 'like', 'buy', 'deal', 'strategist', 'new', 'highs', 'suggest']\n",
      "\n",
      "\n"
     ]
    }
   ],
   "source": [
    "for i, topic in enumerate(LDA.components_):\n",
    "    print(f\"The top 20 words for Topic#{i}\")\n",
    "    top_words = [cv.get_feature_names_out()[index] for index in topic.argsort()[-20:][::-1]]  \n",
    "    print(top_words)  \n",
    "    print('\\n')"
   ]
  }
 ],
 "metadata": {
  "kernelspec": {
   "display_name": "anaconda-panel-2023.05-py310",
   "language": "python",
   "name": "conda-env-anaconda-panel-2023.05-py310-py"
  },
  "language_info": {
   "codemirror_mode": {
    "name": "ipython",
    "version": 3
   },
   "file_extension": ".py",
   "mimetype": "text/x-python",
   "name": "python",
   "nbconvert_exporter": "python",
   "pygments_lexer": "ipython3",
   "version": "3.11.5"
  }
 },
 "nbformat": 4,
 "nbformat_minor": 5
}
