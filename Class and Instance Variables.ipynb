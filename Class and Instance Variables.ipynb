{
 "cells": [
  {
   "cell_type": "code",
   "execution_count": 16,
   "id": "f6fb7c6f-9ed0-4f5d-903e-ef3a3bc57129",
   "metadata": {},
   "outputs": [],
   "source": [
    "class Dog:\n",
    "    kind = 'canine'\n",
    "    num_limbs = 4\n",
    "    \n",
    "    def __init__(self):\n",
    "        self.name = \"\"\n",
    "        self.tricks = []\n",
    "        self.breed = \"\"\n",
    "        self.treats = []\n",
    "\n",
    "    def adding_tricks(self,trick):\n",
    "        self.tricks.append(trick)\n",
    "\n",
    "    def fav_treats(self,treat):\n",
    "        self.treats.append(treat)\n",
    "\n",
    "    def printing(self):\n",
    "        print(f\"Name of the dog {self.name}\")\n",
    "        print(f\"Breed of the dog {self.breed}\")\n",
    "        print(f\"Tricks performed by the dog {self.tricks}\")\n",
    "        print(f\"Favorite treats the dog {self.treats}\")"
   ]
  },
  {
   "cell_type": "code",
   "execution_count": 24,
   "id": "7817e5cc-e98d-45c7-a972-e943f417d581",
   "metadata": {},
   "outputs": [
    {
     "name": "stdout",
     "output_type": "stream",
     "text": [
      "Kind of animal:- canine\n",
      "Number of limbs:- 4\n",
      "Name of the dog Bruno\n",
      "Breed of the dog Golden Retriever\n",
      "Tricks performed by the dog ['roll over', 'speak']\n",
      "Favorite treats the dog ['chicken']\n"
     ]
    }
   ],
   "source": [
    "dog1 = Dog()\n",
    "print(\"Kind of animal:-\",dog1.kind)\n",
    "print(\"Number of limbs:-\",dog1.num_limbs)\n",
    "dog1.name = \"Bruno\"\n",
    "dog1.breed = \"Golden Retriever\"\n",
    "dog1.adding_tricks('roll over')\n",
    "dog1.adding_tricks('speak')\n",
    "dog1.fav_treats('chicken')\n",
    "dog1.printing()"
   ]
  },
  {
   "cell_type": "code",
   "execution_count": 25,
   "id": "f5304245-6427-49d1-a815-1172b30aee77",
   "metadata": {},
   "outputs": [
    {
     "name": "stdout",
     "output_type": "stream",
     "text": [
      "Kind of animal:- canine\n",
      "Number of limbs:- 4\n",
      "Name of the dog Gladys\n",
      "Breed of the dog Golden Dachshund\n",
      "Tricks performed by the dog ['handshake']\n",
      "Favorite treats the dog ['fish', 'eggs']\n"
     ]
    }
   ],
   "source": [
    "dog2 = Dog()\n",
    "print(\"Kind of animal:-\",dog2.kind)\n",
    "print(\"Number of limbs:-\",dog2.num_limbs)\n",
    "dog2.name = \"Gladys\"\n",
    "dog2.breed = \"Golden Dachshund\"\n",
    "dog2.adding_tricks('handshake')\n",
    "dog2.fav_treats('fish')\n",
    "dog2.fav_treats('eggs')\n",
    "dog2.printing()"
   ]
  }
 ],
 "metadata": {
  "kernelspec": {
   "display_name": "anaconda-panel-2023.05-py310",
   "language": "python",
   "name": "conda-env-anaconda-panel-2023.05-py310-py"
  },
  "language_info": {
   "codemirror_mode": {
    "name": "ipython",
    "version": 3
   },
   "file_extension": ".py",
   "mimetype": "text/x-python",
   "name": "python",
   "nbconvert_exporter": "python",
   "pygments_lexer": "ipython3",
   "version": "3.11.5"
  }
 },
 "nbformat": 4,
 "nbformat_minor": 5
}
