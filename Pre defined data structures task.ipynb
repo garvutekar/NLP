{
 "cells": [
  {
   "cell_type": "code",
   "execution_count": 2,
   "id": "164050bd-94c6-4496-85f5-b9ff0b5b260b",
   "metadata": {},
   "outputs": [
    {
     "data": {
      "text/plain": [
       "[1, 4, 9, 16, 25, 36, 49, 64, 81, 100]"
      ]
     },
     "execution_count": 2,
     "metadata": {},
     "output_type": "execute_result"
    }
   ],
   "source": [
    "#List comprehension task\n",
    "\n",
    "sq = [1,2,3,4,5,6,7,8,9,10]\n",
    "newSq = [i**2 for i in sq]\n",
    "newSq"
   ]
  },
  {
   "cell_type": "code",
   "execution_count": 3,
   "id": "6ca2fb5f-5c12-450a-bf77-2d7d02cdaed7",
   "metadata": {},
   "outputs": [
    {
     "data": {
      "text/plain": [
       "[[1, 2, 3], [4, 5, 6], [7, 8, 9]]"
      ]
     },
     "execution_count": 3,
     "metadata": {},
     "output_type": "execute_result"
    }
   ],
   "source": [
    "#Nested list comprehension task\n",
    "\n",
    "matrix = [[i+j *3 + 1 for i in range(3)]for j in range(3)]\n",
    "matrix"
   ]
  },
  {
   "cell_type": "code",
   "execution_count": 2,
   "id": "448a190f-e567-4314-8407-2fa0d5d2bacb",
   "metadata": {},
   "outputs": [
    {
     "data": {
      "text/plain": [
       "[1, 2, 4, 5]"
      ]
     },
     "execution_count": 2,
     "metadata": {},
     "output_type": "execute_result"
    }
   ],
   "source": [
    "#del statements task\n",
    "\n",
    "number = [1,2,3,4,5]\n",
    "del number [2] # alternate method :- del number [2:3]\n",
    "number"
   ]
  },
  {
   "cell_type": "code",
   "execution_count": 17,
   "id": "d0fde558-d42e-4a59-9225-376df9d87b4a",
   "metadata": {},
   "outputs": [
    {
     "ename": "TypeError",
     "evalue": "'tuple' object does not support item assignment",
     "output_type": "error",
     "traceback": [
      "\u001b[0;31m---------------------------------------------------------------------------\u001b[0m",
      "\u001b[0;31mTypeError\u001b[0m                                 Traceback (most recent call last)",
      "Cell \u001b[0;32mIn[17], line 4\u001b[0m\n\u001b[1;32m      1\u001b[0m \u001b[38;5;66;03m#Tuples and Sequences task\u001b[39;00m\n\u001b[1;32m      3\u001b[0m \u001b[38;5;28mtuple\u001b[39m \u001b[38;5;241m=\u001b[39m (\u001b[38;5;241m1\u001b[39m,\u001b[38;5;241m2\u001b[39m,\u001b[38;5;241m3\u001b[39m)\n\u001b[0;32m----> 4\u001b[0m \u001b[38;5;28mtuple\u001b[39m[\u001b[38;5;241m2\u001b[39m] \u001b[38;5;241m=\u001b[39m \u001b[38;5;241m4\u001b[39m\n",
      "\u001b[0;31mTypeError\u001b[0m: 'tuple' object does not support item assignment"
     ]
    }
   ],
   "source": [
    "#Tuples and Sequences task\n",
    "\n",
    "tuple = (1,2,3)\n",
    "tuple[2] = 4"
   ]
  },
  {
   "cell_type": "code",
   "execution_count": 18,
   "id": "40f6721e-2964-4b79-a4ed-40f1c9cfbd73",
   "metadata": {},
   "outputs": [
    {
     "data": {
      "text/plain": [
       "{1, 2, 3, 4}"
      ]
     },
     "execution_count": 18,
     "metadata": {},
     "output_type": "execute_result"
    }
   ],
   "source": [
    "#Sets task\n",
    "\n",
    "sets = {1,2,2,3,4}\n",
    "sets\n",
    "\n",
    "#Sets remove repeating elements from the input"
   ]
  },
  {
   "cell_type": "code",
   "execution_count": 1,
   "id": "fcb21818-5aa3-435d-98c6-6e5db26de56a",
   "metadata": {},
   "outputs": [
    {
     "data": {
      "text/plain": [
       "'Garv'"
      ]
     },
     "execution_count": 1,
     "metadata": {},
     "output_type": "execute_result"
    }
   ],
   "source": [
    "#Dictionaries task\n",
    "\n",
    "information = {'name': 'Garv','age': '18','city': 'Mumbai'}\n",
    "information['name']"
   ]
  },
  {
   "cell_type": "code",
   "execution_count": 13,
   "id": "dbd7b5f3-3fa0-47ae-b299-6d7b3059d498",
   "metadata": {},
   "outputs": [
    {
     "name": "stdout",
     "output_type": "stream",
     "text": [
      "[1, 2, 3, 4, 5, 6, 7, 8, 9, 10]\n",
      "\n",
      "0 : 1\n",
      "1 : 2\n",
      "2 : 3\n",
      "3 : 4\n",
      "4 : 5\n",
      "5 : 6\n",
      "6 : 7\n",
      "7 : 8\n",
      "8 : 9\n",
      "9 : 10\n"
     ]
    }
   ],
   "source": [
    "#Looping techniques task\n",
    "\n",
    "num = [1,2,3,4,5,6,7,8,9,10]\n",
    "\n",
    "for i in num:\n",
    "    print(num)\n",
    "    break\n",
    "\n",
    "print()\n",
    "\n",
    "for a,b in enumerate(num):\n",
    "    print(a,\":\",b)"
   ]
  },
  {
   "cell_type": "code",
   "execution_count": null,
   "id": "5374be33-33bb-4470-ae69-9aa0010bd957",
   "metadata": {},
   "outputs": [],
   "source": []
  }
 ],
 "metadata": {
  "kernelspec": {
   "display_name": "anaconda-ai-2024.04-py310",
   "language": "python",
   "name": "conda-env-anaconda-ai-2024.04-py310-py"
  },
  "language_info": {
   "codemirror_mode": {
    "name": "ipython",
    "version": 3
   },
   "file_extension": ".py",
   "mimetype": "text/x-python",
   "name": "python",
   "nbconvert_exporter": "python",
   "pygments_lexer": "ipython3",
   "version": "3.10.13"
  }
 },
 "nbformat": 4,
 "nbformat_minor": 5
}
