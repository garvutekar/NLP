{
 "cells": [
  {
   "cell_type": "code",
   "execution_count": 21,
   "id": "1a7f1110-217f-4b06-a3bb-47d743f06210",
   "metadata": {},
   "outputs": [],
   "source": [
    "stack1 = []"
   ]
  },
  {
   "cell_type": "code",
   "execution_count": 22,
   "id": "ba62fbbc-bde3-4923-8e17-ad42e8296d24",
   "metadata": {},
   "outputs": [
    {
     "name": "stdout",
     "output_type": "stream",
     "text": [
      "[]\n"
     ]
    }
   ],
   "source": [
    "print(stack1)"
   ]
  },
  {
   "cell_type": "code",
   "execution_count": 23,
   "id": "9ea420cf-4829-4200-8146-690f7c787543",
   "metadata": {},
   "outputs": [],
   "source": [
    "stack1 = [1,2,3]"
   ]
  },
  {
   "cell_type": "code",
   "execution_count": 24,
   "id": "d0dfc49c-da69-440e-a99c-817572b364fd",
   "metadata": {},
   "outputs": [],
   "source": [
    "stack1.append(4)"
   ]
  },
  {
   "cell_type": "code",
   "execution_count": 25,
   "id": "13a61771-101f-477d-84c0-9b3af2a89e42",
   "metadata": {},
   "outputs": [],
   "source": [
    "stack1.append(5)"
   ]
  },
  {
   "cell_type": "code",
   "execution_count": 26,
   "id": "7ac0b35d-2a97-4435-999c-be5c5f9c72bd",
   "metadata": {},
   "outputs": [
    {
     "data": {
      "text/plain": [
       "[1, 2, 3, 4, 5]"
      ]
     },
     "execution_count": 26,
     "metadata": {},
     "output_type": "execute_result"
    }
   ],
   "source": [
    "stack1"
   ]
  },
  {
   "cell_type": "code",
   "execution_count": 27,
   "id": "c7f5bb39-ceea-4003-8bb2-8f5bd5dc8931",
   "metadata": {},
   "outputs": [
    {
     "data": {
      "text/plain": [
       "5"
      ]
     },
     "execution_count": 27,
     "metadata": {},
     "output_type": "execute_result"
    }
   ],
   "source": [
    "stack1.pop()"
   ]
  },
  {
   "cell_type": "code",
   "execution_count": 48,
   "id": "0625d469-2772-4818-9bb0-43efed3da4c7",
   "metadata": {},
   "outputs": [
    {
     "data": {
      "text/plain": [
       "[1, 2, 3, 4, 6, 5]"
      ]
     },
     "execution_count": 48,
     "metadata": {},
     "output_type": "execute_result"
    }
   ],
   "source": [
    "stack1"
   ]
  },
  {
   "cell_type": "code",
   "execution_count": 49,
   "id": "bf02eae9-24b2-403c-bcdf-ed647531cbf4",
   "metadata": {},
   "outputs": [],
   "source": [
    "stack1.append(5)"
   ]
  },
  {
   "cell_type": "code",
   "execution_count": 47,
   "id": "43a666bb-bcf4-42a1-a6de-a3c5d92c4712",
   "metadata": {},
   "outputs": [
    {
     "data": {
      "text/plain": [
       "[1, 2, 3, 4, 6, 5]"
      ]
     },
     "execution_count": 47,
     "metadata": {},
     "output_type": "execute_result"
    }
   ],
   "source": [
    "stack1"
   ]
  },
  {
   "cell_type": "code",
   "execution_count": 30,
   "id": "1aaa8ffc-17ee-4415-a463-ee3e4adeb09d",
   "metadata": {},
   "outputs": [],
   "source": [
    "stack2 = [\"garv\",\"dhruva\",\"leisha\"]"
   ]
  },
  {
   "cell_type": "code",
   "execution_count": 34,
   "id": "cc23cc88-6aac-4f6e-bb9a-7608183facc2",
   "metadata": {},
   "outputs": [],
   "source": [
    "stack2.append(\"anuj\")"
   ]
  },
  {
   "cell_type": "code",
   "execution_count": 35,
   "id": "a89a947d-debc-46e7-a751-5b3f0dcd3402",
   "metadata": {},
   "outputs": [],
   "source": [
    "stack2.append(\"vyom\")"
   ]
  },
  {
   "cell_type": "code",
   "execution_count": 36,
   "id": "366f6c77-b986-449f-86c4-1fe176b94040",
   "metadata": {},
   "outputs": [
    {
     "data": {
      "text/plain": [
       "['garv', 'dhruva', 'leisha', 'anuj', 'vyom']"
      ]
     },
     "execution_count": 36,
     "metadata": {},
     "output_type": "execute_result"
    }
   ],
   "source": [
    "stack2"
   ]
  },
  {
   "cell_type": "code",
   "execution_count": 37,
   "id": "31018208-3169-44a3-bcb0-d0464429f297",
   "metadata": {},
   "outputs": [
    {
     "data": {
      "text/plain": [
       "'leisha'"
      ]
     },
     "execution_count": 37,
     "metadata": {},
     "output_type": "execute_result"
    }
   ],
   "source": [
    "stack2.pop(2)"
   ]
  },
  {
   "cell_type": "code",
   "execution_count": 39,
   "id": "4f844774-659a-4f8d-b932-e9c13f346b9a",
   "metadata": {},
   "outputs": [
    {
     "data": {
      "text/plain": [
       "['garv', 'dhruva', 'anuj', 'vyom']"
      ]
     },
     "execution_count": 39,
     "metadata": {},
     "output_type": "execute_result"
    }
   ],
   "source": [
    "stack2"
   ]
  }
 ],
 "metadata": {
  "kernelspec": {
   "display_name": "anaconda-ai-2024.04-py310",
   "language": "python",
   "name": "conda-env-anaconda-ai-2024.04-py310-py"
  },
  "language_info": {
   "codemirror_mode": {
    "name": "ipython",
    "version": 3
   },
   "file_extension": ".py",
   "mimetype": "text/x-python",
   "name": "python",
   "nbconvert_exporter": "python",
   "pygments_lexer": "ipython3",
   "version": "3.10.13"
  }
 },
 "nbformat": 4,
 "nbformat_minor": 5
}
