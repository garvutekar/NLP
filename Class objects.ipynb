{
 "cells": [
  {
   "cell_type": "code",
   "execution_count": 2,
   "id": "e8a89f96-c1ef-433e-b199-da438f185d70",
   "metadata": {},
   "outputs": [],
   "source": [
    "class Phone:\n",
    "    def iPhone(data):\n",
    "        print(\"A18 pro,48mp,256gb,desert titanium\")\n",
    "\n",
    "    def Samsung(data):\n",
    "        print(\"Snapdragon 8 elite,100mp,512gb,silver\")"
   ]
  },
  {
   "cell_type": "code",
   "execution_count": 4,
   "id": "64374df7-c8bb-4bf2-baf8-5d5e344cd33f",
   "metadata": {},
   "outputs": [],
   "source": [
    "p = Phone()"
   ]
  },
  {
   "cell_type": "code",
   "execution_count": 6,
   "id": "218864b5-97de-4396-ae62-be39a4f7e32c",
   "metadata": {},
   "outputs": [
    {
     "name": "stdout",
     "output_type": "stream",
     "text": [
      "A18 pro,48mp,256gb,desert titanium\n",
      "Snapdragon 8 elite,100mp,512gb,silver\n"
     ]
    }
   ],
   "source": [
    "Phone.iPhone(p)\n",
    "Phone.Samsung(p)"
   ]
  },
  {
   "cell_type": "code",
   "execution_count": 7,
   "id": "9aae4cf7-146d-457d-a39c-1a5d162ce28a",
   "metadata": {},
   "outputs": [
    {
     "name": "stdout",
     "output_type": "stream",
     "text": [
      "A18 pro,48mp,256gb,desert titanium\n",
      "Snapdragon 8 elite,100mp,512gb,silver\n"
     ]
    }
   ],
   "source": [
    "p.iPhone()\n",
    "p.Samsung()"
   ]
  }
 ],
 "metadata": {
  "kernelspec": {
   "display_name": "anaconda-panel-2023.05-py310",
   "language": "python",
   "name": "conda-env-anaconda-panel-2023.05-py310-py"
  },
  "language_info": {
   "codemirror_mode": {
    "name": "ipython",
    "version": 3
   },
   "file_extension": ".py",
   "mimetype": "text/x-python",
   "name": "python",
   "nbconvert_exporter": "python",
   "pygments_lexer": "ipython3",
   "version": "3.11.5"
  }
 },
 "nbformat": 4,
 "nbformat_minor": 5
}
