{
 "cells": [
  {
   "cell_type": "code",
   "execution_count": 10,
   "id": "2944a3ba-c586-4c3b-9816-c12e56d82b88",
   "metadata": {},
   "outputs": [
    {
     "name": "stderr",
     "output_type": "stream",
     "text": [
      "[nltk_data] Downloading package wordnet to\n",
      "[nltk_data]     /home/c4aa6a31-8778-4e79-96de-\n",
      "[nltk_data]     ab90cdd4435a/nltk_data...\n",
      "[nltk_data]   Package wordnet is already up-to-date!\n"
     ]
    },
    {
     "data": {
      "text/plain": [
       "True"
      ]
     },
     "execution_count": 10,
     "metadata": {},
     "output_type": "execute_result"
    }
   ],
   "source": [
    "import nltk\n",
    "nltk.download('wordnet')  "
   ]
  },
  {
   "cell_type": "code",
   "execution_count": 11,
   "id": "67890596-80a4-4123-887d-64ab9affacbe",
   "metadata": {},
   "outputs": [],
   "source": [
    "from nltk.corpus import wordnet\n",
    "\n",
    "def find_word_relations(word):\n",
    "    similar_words = set() \n",
    "    opposite_words = set() \n",
    "    \n",
    "    for meaning in wordnet.synsets(word):\n",
    "        for word_form in meaning.lemmas():\n",
    "            similar_words.add(word_form.name())\n",
    "            if word_form.antonyms():\n",
    "                opposite_words.add(word_form.antonyms()[0].name())\n",
    "    \n",
    "    return {\n",
    "        \"original_word\": word,\n",
    "        \"similar_words\": list(similar_words),\n",
    "        \"opposite_words\": list(opposite_words)\n",
    "    }"
   ]
  },
  {
   "cell_type": "code",
   "execution_count": 12,
   "id": "87ff1a20-8b02-416b-9fb3-8ff294964ee1",
   "metadata": {},
   "outputs": [
    {
     "name": "stdout",
     "output_type": "stream",
     "text": [
      "Word: happy\n",
      "\n",
      "Similar words:\n",
      "well-chosen, happy, felicitous, glad\n",
      "\n",
      "Opposite words:\n",
      "unhappy\n",
      "\n",
      "\n",
      "\n",
      "Word: fast\n",
      "\n",
      "Similar words:\n",
      "immobile, degenerate, debauched, profligate, dissolute, truehearted, tight, libertine, riotous, flying, fasting, degraded, quick, loyal, fast, dissipated, firm\n",
      "\n",
      "Opposite words:\n",
      "slow\n",
      "\n",
      "\n",
      "\n",
      "Word: light\n",
      "\n",
      "Similar words:\n",
      "illumine, Light, sluttish, luminousness, scant, light_up, illume, tripping, spark, light_source, visible_light, illumination, igniter, light-colored, Light_Within, lightly, swooning, luminosity, light-headed, lightness, alight, lightsome, calorie-free, fall, promiscuous, unclouded, short, low-cal, lighting, sparkle, twinkle, unaccented, faint, visible_radiation, ignitor, lite, easy, wanton, fire_up, Inner_Light, perch, get_off, ignite, weak, wakeful, lighter, Christ_Within, idle, light, clean, brightness, luminance, brightness_level, dismount, get_down, abstemious, loose, lightheaded, illuminate, clear, unhorse\n",
      "\n",
      "Opposite words:\n",
      "dark, extinguish, heavy\n",
      "\n",
      "\n",
      "\n",
      "Word: big\n",
      "\n",
      "Similar words:\n",
      "prominent, braggart, bountiful, heavy, full-grown, bighearted, swelled, giving, fully_grown, openhanded, adult, enceinte, magnanimous, self-aggrandising, bragging, crowing, bounteous, gravid, with_child, expectant, boastfully, freehanded, self-aggrandizing, large, vauntingly, boastful, braggy, cock-a-hoop, grown, grownup, bad, big, vainglorious, handsome, great, liberal\n",
      "\n",
      "Opposite words:\n",
      "small, little\n",
      "\n",
      "\n",
      "\n",
      "Word: love\n",
      "\n",
      "Similar words:\n",
      "have_a_go_at_it, have_it_off, honey, screw, make_out, sexual_love, get_laid, lovemaking, beloved, passion, hump, make_love, get_it_on, lie_with, love, have_sex, dearest, making_love, dear, enjoy, bonk, fuck, have_intercourse, love_life, have_it_away, know, be_intimate, jazz, do_it, sleep_with, bed, bang, eff, roll_in_the_hay, sleep_together, erotic_love\n",
      "\n",
      "Opposite words:\n",
      "hate\n",
      "\n",
      "\n",
      "\n"
     ]
    }
   ],
   "source": [
    "test_word = [\"happy\", \"fast\", \"light\", \"big\", \"love\"]\n",
    "\n",
    "for word in test_word:\n",
    "    results = find_word_relations(word)\n",
    "    \n",
    "    print(f\"Word: {results['original_word']}\")\n",
    "    print()\n",
    "    \n",
    "    if results['similar_words']:\n",
    "        print(\"Similar words:\")\n",
    "        print(\", \".join(results['similar_words']))\n",
    "    else:\n",
    "        print(\"No similar words found\")\n",
    "        \n",
    "    if results['opposite_words']:\n",
    "        print(\"\\nOpposite words:\") \n",
    "        print(\", \".join(results['opposite_words']))\n",
    "        print()\n",
    "        print()\n",
    "        print()\n",
    "    else:\n",
    "        print(\"\\nNo opposite words found\")\n",
    "        print()\n",
    "        print()\n",
    "        print()"
   ]
  }
 ],
 "metadata": {
  "kernelspec": {
   "display_name": "anaconda-panel-2023.05-py310",
   "language": "python",
   "name": "conda-env-anaconda-panel-2023.05-py310-py"
  },
  "language_info": {
   "codemirror_mode": {
    "name": "ipython",
    "version": 3
   },
   "file_extension": ".py",
   "mimetype": "text/x-python",
   "name": "python",
   "nbconvert_exporter": "python",
   "pygments_lexer": "ipython3",
   "version": "3.11.5"
  }
 },
 "nbformat": 4,
 "nbformat_minor": 5
}
