{
 "cells": [
  {
   "cell_type": "code",
   "execution_count": 6,
   "id": "a6fe83d8-821a-4d10-963b-f4063ccdbc59",
   "metadata": {},
   "outputs": [
    {
     "data": {
      "text/plain": [
       "(1, 2, 3, 4, 5, 6, 7)"
      ]
     },
     "execution_count": 6,
     "metadata": {},
     "output_type": "execute_result"
    }
   ],
   "source": [
    "tuple = 1,2,3,4,5,6,7\n",
    "tuple"
   ]
  },
  {
   "cell_type": "code",
   "execution_count": 10,
   "id": "4a5b96dc-bf55-49c6-a21d-79e90e9f8674",
   "metadata": {},
   "outputs": [
    {
     "data": {
      "text/plain": [
       "1"
      ]
     },
     "execution_count": 10,
     "metadata": {},
     "output_type": "execute_result"
    }
   ],
   "source": [
    "tuple[0]"
   ]
  },
  {
   "cell_type": "code",
   "execution_count": 11,
   "id": "9fa26880-c3d2-4edf-8355-cda4d4bb3d23",
   "metadata": {},
   "outputs": [
    {
     "data": {
      "text/plain": [
       "('garv', 'leisha', 'dhruva')"
      ]
     },
     "execution_count": 11,
     "metadata": {},
     "output_type": "execute_result"
    }
   ],
   "source": [
    "t = (\"garv\",\"leisha\",\"dhruva\")\n",
    "t"
   ]
  },
  {
   "cell_type": "code",
   "execution_count": 13,
   "id": "cee403f0-596c-44db-a3d9-1e06d9115fd9",
   "metadata": {},
   "outputs": [
    {
     "data": {
      "text/plain": [
       "'dhruva'"
      ]
     },
     "execution_count": 13,
     "metadata": {},
     "output_type": "execute_result"
    }
   ],
   "source": [
    "t[2]"
   ]
  },
  {
   "cell_type": "code",
   "execution_count": 14,
   "id": "b1743242-726c-4ac2-9f26-4c5bb60008a7",
   "metadata": {},
   "outputs": [
    {
     "data": {
      "text/plain": [
       "([1, 2, 3], [4, 5, 6])"
      ]
     },
     "execution_count": 14,
     "metadata": {},
     "output_type": "execute_result"
    }
   ],
   "source": [
    "tup = ([1,2,3],[4,5,6])\n",
    "tup"
   ]
  },
  {
   "cell_type": "code",
   "execution_count": 15,
   "id": "34087762-96ab-44f0-9e9d-fe0aaf9e3722",
   "metadata": {},
   "outputs": [
    {
     "data": {
      "text/plain": [
       "[4, 5, 6]"
      ]
     },
     "execution_count": 15,
     "metadata": {},
     "output_type": "execute_result"
    }
   ],
   "source": [
    "tup[1]"
   ]
  },
  {
   "cell_type": "code",
   "execution_count": 16,
   "id": "32b89e13-9cfa-4c45-a856-da36b4b7653d",
   "metadata": {},
   "outputs": [
    {
     "data": {
      "text/plain": [
       "((1, 2, 3, 4, 5, 6, 7), 'leisha', [1, 2, 3], 1000)"
      ]
     },
     "execution_count": 16,
     "metadata": {},
     "output_type": "execute_result"
    }
   ],
   "source": [
    "tupleAdd = tuple,t[1],tup[0],1000\n",
    "tupleAdd"
   ]
  }
 ],
 "metadata": {
  "kernelspec": {
   "display_name": "anaconda-panel-2023.05-py310",
   "language": "python",
   "name": "conda-env-anaconda-panel-2023.05-py310-py"
  },
  "language_info": {
   "codemirror_mode": {
    "name": "ipython",
    "version": 3
   },
   "file_extension": ".py",
   "mimetype": "text/x-python",
   "name": "python",
   "nbconvert_exporter": "python",
   "pygments_lexer": "ipython3",
   "version": "3.11.5"
  }
 },
 "nbformat": 4,
 "nbformat_minor": 5
}
