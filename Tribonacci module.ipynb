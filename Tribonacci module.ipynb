{
 "cells": [
  {
   "cell_type": "code",
   "execution_count": 21,
   "id": "1d9c3d03-6a8a-469a-9388-b0b419982ab4",
   "metadata": {},
   "outputs": [
    {
     "name": "stdout",
     "output_type": "stream",
     "text": [
      "Writing tribonacci.py\n"
     ]
    }
   ],
   "source": [
    "%%writefile tribonacci.py \n",
    "def tribo_1(num):\n",
    "    a, b, c = 0, 0, 1\n",
    "    while a < num:\n",
    "        print(a, end=' ')\n",
    "        a, b, c = b, c, a + b + c\n",
    "    print()\n",
    "\n",
    "def tribo_2(r):\n",
    "    a, b, c = 0, 0, 1\n",
    "    for _ in range(r):\n",
    "        print(a, end=' ')\n",
    "        a, b, c = b, c, a + b + c\n",
    "    print()"
   ]
  }
 ],
 "metadata": {
  "kernelspec": {
   "display_name": "anaconda-panel-2023.05-py310",
   "language": "python",
   "name": "conda-env-anaconda-panel-2023.05-py310-py"
  },
  "language_info": {
   "codemirror_mode": {
    "name": "ipython",
    "version": 3
   },
   "file_extension": ".py",
   "mimetype": "text/x-python",
   "name": "python",
   "nbconvert_exporter": "python",
   "pygments_lexer": "ipython3",
   "version": "3.11.5"
  }
 },
 "nbformat": 4,
 "nbformat_minor": 5
}
