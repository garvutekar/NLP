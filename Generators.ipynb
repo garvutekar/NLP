{
 "cells": [
  {
   "cell_type": "code",
   "execution_count": 6,
   "id": "e998710d-a8e1-425d-aaf8-a714fee672c0",
   "metadata": {},
   "outputs": [],
   "source": [
    "def FirstTwentySquares():\n",
    "    num = 1\n",
    "    while num <= 10:\n",
    "        sq = num ** 2\n",
    "        yield sq\n",
    "        num += 1"
   ]
  },
  {
   "cell_type": "code",
   "execution_count": 7,
   "id": "373f1dad-29a7-463c-81a8-ddcd06c8d825",
   "metadata": {},
   "outputs": [
    {
     "name": "stdout",
     "output_type": "stream",
     "text": [
      "1\n",
      "4\n",
      "9\n",
      "16\n",
      "25\n",
      "36\n",
      "49\n",
      "64\n",
      "81\n",
      "100\n"
     ]
    }
   ],
   "source": [
    "val = FirstTwentySquares()\n",
    "for i in val:\n",
    "    print(i)"
   ]
  }
 ],
 "metadata": {
  "kernelspec": {
   "display_name": "anaconda-panel-2023.05-py310",
   "language": "python",
   "name": "conda-env-anaconda-panel-2023.05-py310-py"
  },
  "language_info": {
   "codemirror_mode": {
    "name": "ipython",
    "version": 3
   },
   "file_extension": ".py",
   "mimetype": "text/x-python",
   "name": "python",
   "nbconvert_exporter": "python",
   "pygments_lexer": "ipython3",
   "version": "3.11.5"
  }
 },
 "nbformat": 4,
 "nbformat_minor": 5
}
