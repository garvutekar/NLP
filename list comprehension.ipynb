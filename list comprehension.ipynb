{
 "cells": [
  {
   "cell_type": "code",
   "execution_count": 4,
   "id": "c5e480b6-4942-44ec-a5eb-d39198576ab7",
   "metadata": {},
   "outputs": [
    {
     "name": "stdout",
     "output_type": "stream",
     "text": [
      "[12, 22, 32, 42, 52, 62]\n"
     ]
    }
   ],
   "source": [
    "mark = [10,20,30,40,50,60]\n",
    "newMarks = [x+2 for x in mark]\n",
    "print(newMarks)"
   ]
  },
  {
   "cell_type": "code",
   "execution_count": 3,
   "id": "f82f6d84-398b-4850-9f29-be758f52b08a",
   "metadata": {},
   "outputs": [
    {
     "name": "stdout",
     "output_type": "stream",
     "text": [
      "[0, 1, 8, 27, 64, 125, 216, 343, 512, 729, 1000]\n"
     ]
    }
   ],
   "source": [
    "cubes = []\n",
    "Ncubes = [j**3 for j in range(11)]\n",
    "print(Ncubes)"
   ]
  },
  {
   "cell_type": "code",
   "execution_count": 6,
   "id": "8c3ddcd8-2c67-463e-b533-5931d70dc92f",
   "metadata": {},
   "outputs": [
    {
     "name": "stdout",
     "output_type": "stream",
     "text": [
      "percenatge acquired out 1000 marks [11.0, 21.0, 32.0, 43.0, 54.0, 56.00000000000001, 66.0, 77.0, 88.0, 99.0, 100.0]\n"
     ]
    }
   ],
   "source": [
    "marks = [110,210,320,430,540,560,660,770,880,990,1000]\n",
    "percentage = [(a/1000)*100 for a in marks]\n",
    "print(\"percenatge acquired out 1000 marks\",percentage)"
   ]
  }
 ],
 "metadata": {
  "kernelspec": {
   "display_name": "anaconda-panel-2023.05-py310",
   "language": "python",
   "name": "conda-env-anaconda-panel-2023.05-py310-py"
  },
  "language_info": {
   "codemirror_mode": {
    "name": "ipython",
    "version": 3
   },
   "file_extension": ".py",
   "mimetype": "text/x-python",
   "name": "python",
   "nbconvert_exporter": "python",
   "pygments_lexer": "ipython3",
   "version": "3.11.5"
  }
 },
 "nbformat": 4,
 "nbformat_minor": 5
}
