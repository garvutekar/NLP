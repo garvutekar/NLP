{
 "cells": [
  {
   "cell_type": "code",
   "execution_count": 32,
   "id": "a34eccce-4977-43c2-b6c4-97d46a81ff81",
   "metadata": {},
   "outputs": [
    {
     "name": "stdout",
     "output_type": "stream",
     "text": [
      "Overwriting info.py\n"
     ]
    }
   ],
   "source": [
    "%%writefile info.py\n",
    "def name(word):\n",
    "    return f\"hello my name is {a}\"\n",
    "def age(num):\n",
    "    return f\"my age is {num}\""
   ]
  },
  {
   "cell_type": "code",
   "execution_count": 36,
   "id": "6879d4b8-f768-44a2-80e0-3a12f7c42d38",
   "metadata": {},
   "outputs": [
    {
     "name": "stdout",
     "output_type": "stream",
     "text": [
      "Overwriting functions.py\n"
     ]
    }
   ],
   "source": [
    "%%writefile functions.py\n",
    "def add(i,j):\n",
    "    return \"answer is \",{i+j}\n",
    "\n",
    "def subtract(i,j):\n",
    "    return \"answer is \",{i-j}"
   ]
  },
  {
   "cell_type": "code",
   "execution_count": null,
   "id": "b4a87cc0-9bfd-4dc3-8505-b0412528b8c3",
   "metadata": {},
   "outputs": [],
   "source": []
  }
 ],
 "metadata": {
  "kernelspec": {
   "display_name": "anaconda-panel-2023.05-py310",
   "language": "python",
   "name": "conda-env-anaconda-panel-2023.05-py310-py"
  },
  "language_info": {
   "codemirror_mode": {
    "name": "ipython",
    "version": 3
   },
   "file_extension": ".py",
   "mimetype": "text/x-python",
   "name": "python",
   "nbconvert_exporter": "python",
   "pygments_lexer": "ipython3",
   "version": "3.11.5"
  }
 },
 "nbformat": 4,
 "nbformat_minor": 5
}
