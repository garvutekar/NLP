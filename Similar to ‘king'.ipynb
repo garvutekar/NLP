{
 "cells": [
  {
   "cell_type": "code",
   "execution_count": 2,
   "id": "d526346e-747c-4259-b5bf-dd5343ddc740",
   "metadata": {},
   "outputs": [
    {
     "name": "stdout",
     "output_type": "stream",
     "text": [
      "Defaulting to user installation because normal site-packages is not writeable\n",
      "Looking in links: /usr/share/pip-wheels\n",
      "Requirement already satisfied: gensim in /opt/conda/envs/anaconda-panel-2023.05-py310/lib/python3.11/site-packages (4.3.0)\n",
      "Requirement already satisfied: numpy>=1.18.5 in /home/c4aa6a31-8778-4e79-96de-ab90cdd4435a/.local/lib/python3.11/site-packages (from gensim) (2.2.6)\n",
      "Requirement already satisfied: scipy>=1.7.0 in /home/c4aa6a31-8778-4e79-96de-ab90cdd4435a/.local/lib/python3.11/site-packages (from gensim) (1.15.3)\n",
      "Requirement already satisfied: smart-open>=1.8.1 in /opt/conda/envs/anaconda-panel-2023.05-py310/lib/python3.11/site-packages (from gensim) (5.2.1)\n",
      "Collecting FuzzyTM>=0.4.0 (from gensim)\n",
      "  Downloading FuzzyTM-2.0.9-py3-none-any.whl.metadata (7.9 kB)\n",
      "Requirement already satisfied: pandas in /home/c4aa6a31-8778-4e79-96de-ab90cdd4435a/.local/lib/python3.11/site-packages (from FuzzyTM>=0.4.0->gensim) (2.2.3)\n",
      "Collecting pyfume (from FuzzyTM>=0.4.0->gensim)\n",
      "  Downloading pyFUME-0.3.4-py3-none-any.whl.metadata (9.7 kB)\n",
      "Requirement already satisfied: python-dateutil>=2.8.2 in /home/c4aa6a31-8778-4e79-96de-ab90cdd4435a/.local/lib/python3.11/site-packages (from pandas->FuzzyTM>=0.4.0->gensim) (2.9.0.post0)\n",
      "Requirement already satisfied: pytz>=2020.1 in /home/c4aa6a31-8778-4e79-96de-ab90cdd4435a/.local/lib/python3.11/site-packages (from pandas->FuzzyTM>=0.4.0->gensim) (2025.2)\n",
      "Requirement already satisfied: tzdata>=2022.7 in /home/c4aa6a31-8778-4e79-96de-ab90cdd4435a/.local/lib/python3.11/site-packages (from pandas->FuzzyTM>=0.4.0->gensim) (2025.2)\n",
      "Requirement already satisfied: six>=1.5 in /home/c4aa6a31-8778-4e79-96de-ab90cdd4435a/.local/lib/python3.11/site-packages (from python-dateutil>=2.8.2->pandas->FuzzyTM>=0.4.0->gensim) (1.17.0)\n",
      "Collecting scipy>=1.7.0 (from gensim)\n",
      "  Downloading scipy-1.10.1-cp311-cp311-manylinux_2_17_x86_64.manylinux2014_x86_64.whl.metadata (58 kB)\n",
      "Collecting numpy>=1.18.5 (from gensim)\n",
      "  Downloading numpy-1.24.4-cp311-cp311-manylinux_2_17_x86_64.manylinux2014_x86_64.whl.metadata (5.6 kB)\n",
      "Collecting simpful==2.12.0 (from pyfume->FuzzyTM>=0.4.0->gensim)\n",
      "  Downloading simpful-2.12.0-py3-none-any.whl.metadata (4.8 kB)\n",
      "Collecting fst-pso==1.8.1 (from pyfume->FuzzyTM>=0.4.0->gensim)\n",
      "  Downloading fst-pso-1.8.1.tar.gz (18 kB)\n",
      "  Preparing metadata (setup.py) ... \u001b[?25ldone\n",
      "\u001b[?25hCollecting pandas (from FuzzyTM>=0.4.0->gensim)\n",
      "  Downloading pandas-1.5.3-cp311-cp311-manylinux_2_17_x86_64.manylinux2014_x86_64.whl.metadata (11 kB)\n",
      "Collecting miniful (from fst-pso==1.8.1->pyfume->FuzzyTM>=0.4.0->gensim)\n",
      "  Downloading miniful-0.0.6.tar.gz (2.8 kB)\n",
      "  Preparing metadata (setup.py) ... \u001b[?25ldone\n",
      "\u001b[?25hDownloading FuzzyTM-2.0.9-py3-none-any.whl (31 kB)\n",
      "Downloading pyFUME-0.3.4-py3-none-any.whl (60 kB)\n",
      "Downloading numpy-1.24.4-cp311-cp311-manylinux_2_17_x86_64.manylinux2014_x86_64.whl (17.3 MB)\n",
      "\u001b[2K   \u001b[38;5;70m━━━━━━━━━━━━━━━━━━━━━━━━━━━━━━━━━━━━━━━━\u001b[0m \u001b[32m17.3/17.3 MB\u001b[0m \u001b[31m94.0 MB/s\u001b[0m eta \u001b[36m0:00:00\u001b[0m\n",
      "\u001b[?25hDownloading pandas-1.5.3-cp311-cp311-manylinux_2_17_x86_64.manylinux2014_x86_64.whl (12.0 MB)\n",
      "\u001b[2K   \u001b[38;5;70m━━━━━━━━━━━━━━━━━━━━━━━━━━━━━━━━━━━━━━━━\u001b[0m \u001b[32m12.0/12.0 MB\u001b[0m \u001b[31m84.2 MB/s\u001b[0m eta \u001b[36m0:00:00\u001b[0m\n",
      "\u001b[?25hDownloading scipy-1.10.1-cp311-cp311-manylinux_2_17_x86_64.manylinux2014_x86_64.whl (34.1 MB)\n",
      "\u001b[2K   \u001b[38;5;70m━━━━━━━━━━━━━━━━━━━━━━━━━━━━━━━━━━━━━━━━\u001b[0m \u001b[32m34.1/34.1 MB\u001b[0m \u001b[31m101.3 MB/s\u001b[0m eta \u001b[36m0:00:00\u001b[0m\u001b[36m0:00:01\u001b[0m\n",
      "\u001b[?25hDownloading simpful-2.12.0-py3-none-any.whl (24 kB)\n",
      "Building wheels for collected packages: fst-pso, miniful\n",
      "\u001b[33m  DEPRECATION: Building 'fst-pso' using the legacy setup.py bdist_wheel mechanism, which will be removed in a future version. pip 25.3 will enforce this behaviour change. A possible replacement is to use the standardized build interface by setting the `--use-pep517` option, (possibly combined with `--no-build-isolation`), or adding a `pyproject.toml` file to the source tree of 'fst-pso'. Discussion can be found at https://github.com/pypa/pip/issues/6334\u001b[0m\u001b[33m\n",
      "\u001b[0m  Building wheel for fst-pso (setup.py) ... \u001b[?25ldone\n",
      "\u001b[?25h  Created wheel for fst-pso: filename=fst_pso-1.8.1-py3-none-any.whl size=20430 sha256=e138ca67df5e6911e31a501b62c4e2f5a00e663873aae10a897774a7ec3a164c\n",
      "  Stored in directory: /home/c4aa6a31-8778-4e79-96de-ab90cdd4435a/.cache/pip/wheels/69/f5/e5/18ad53fe1ed6b2af9fad05ec052e4acbac8e92441df44bad2e\n",
      "\u001b[33m  DEPRECATION: Building 'miniful' using the legacy setup.py bdist_wheel mechanism, which will be removed in a future version. pip 25.3 will enforce this behaviour change. A possible replacement is to use the standardized build interface by setting the `--use-pep517` option, (possibly combined with `--no-build-isolation`), or adding a `pyproject.toml` file to the source tree of 'miniful'. Discussion can be found at https://github.com/pypa/pip/issues/6334\u001b[0m\u001b[33m\n",
      "\u001b[0m  Building wheel for miniful (setup.py) ... \u001b[?25ldone\n",
      "\u001b[?25h  Created wheel for miniful: filename=miniful-0.0.6-py3-none-any.whl size=3513 sha256=e7015034c872e1413afd9e2c1e4bab15e08a53c601ac5ffb3334808059e61702\n",
      "  Stored in directory: /home/c4aa6a31-8778-4e79-96de-ab90cdd4435a/.cache/pip/wheels/9d/ff/2f/afe4cd56f47de147407705626517d68bea0f3b74eb1fb168e6\n",
      "Successfully built fst-pso miniful\n",
      "Installing collected packages: numpy, scipy, pandas, simpful, miniful, fst-pso, pyfume, FuzzyTM\n",
      "\u001b[2K  Attempting uninstall: numpy\n",
      "\u001b[2K    Found existing installation: numpy 2.2.6\n",
      "\u001b[2K    Uninstalling numpy-2.2.6:━━━━━━━━━━━━━━━━━━━━━━━━━\u001b[0m \u001b[32m0/8\u001b[0m [numpy]\n",
      "\u001b[2K      Successfully uninstalled numpy-2.2.6━━━━━━━━━━━━\u001b[0m \u001b[32m0/8\u001b[0m [numpy]\n",
      "\u001b[2K   \u001b[38;5;237m━━━━━━━━━━━━━━━━━━━━━━━━━━━━━━━━━━━━━━━━\u001b[0m \u001b[32m0/8\u001b[0m [numpy]\u001b[33m  WARNING: The scripts f2py, f2py3 and f2py3.11 are installed in '/home/c4aa6a31-8778-4e79-96de-ab90cdd4435a/.local/bin' which is not on PATH.\n",
      "  Consider adding this directory to PATH or, if you prefer to suppress this warning, use --no-warn-script-location.\u001b[0m\u001b[33m\n",
      "\u001b[2K  Attempting uninstall: scipy━━━━━━━━━━━━━━━━━━━━━━━━━\u001b[0m \u001b[32m0/8\u001b[0m [numpy]\n",
      "\u001b[2K    Found existing installation: scipy 1.15.3━━━━━\u001b[0m \u001b[32m0/8\u001b[0m [numpy]\n",
      "\u001b[2K    Uninstalling scipy-1.15.3:237m╺\u001b[0m\u001b[38;5;237m━━━━━━━━━━━━━━━━━━━━━━━━━━━━━━━━━━\u001b[0m \u001b[32m1/8\u001b[0m [scipy]\n",
      "\u001b[2K      Successfully uninstalled scipy-1.15.3;5;237m━━━━━━━━━━━━━━━━━━━━━━━━━━━━━━━━━━\u001b[0m \u001b[32m1/8\u001b[0m [scipy]\n",
      "\u001b[2K  Attempting uninstall: pandas237m╺\u001b[0m\u001b[38;5;237m━━━━━━━━━━━━━━━━━━━━━━━━━━━━━━━━━━\u001b[0m \u001b[32m1/8\u001b[0m [scipy]\n",
      "\u001b[2K    Found existing installation: pandas 2.2.3m━━━━━━━━━━━━━━━━━━━━━━━━━━━━━━━━━━\u001b[0m \u001b[32m1/8\u001b[0m [scipy]\n",
      "\u001b[2K    Uninstalling pandas-2.2.3:38;5;237m╺\u001b[0m\u001b[38;5;237m━━━━━━━━━━━━━━━━━━━━━━━━━━━━━\u001b[0m \u001b[32m2/8\u001b[0m [pandas]\n",
      "\u001b[2K      Successfully uninstalled pandas-2.2.3m\u001b[38;5;237m━━━━━━━━━━━━━━━━━━━━━━━━━━━━━\u001b[0m \u001b[32m2/8\u001b[0m [pandas]\n",
      "\u001b[2K   \u001b[38;5;70m━━━━━━━━━━━━━━━━━━━━━━━━━━━━━━━━━━━━━━━━\u001b[0m \u001b[32m8/8\u001b[0m [FuzzyTM]━━━━\u001b[0m \u001b[32m7/8\u001b[0m [FuzzyTM]\n",
      "\u001b[1A\u001b[2K\u001b[31mERROR: pip's dependency resolver does not currently take into account all the packages that are installed. This behaviour is the source of the following dependency conflicts.\n",
      "tables 3.8.0 requires blosc2~=2.0.0, which is not installed.\n",
      "tables 3.8.0 requires cython>=0.29.21, which is not installed.\n",
      "thinc 8.3.6 requires numpy<3.0.0,>=2.0.0, but you have numpy 1.24.4 which is incompatible.\n",
      "tensorflow 2.19.0 requires numpy<2.2.0,>=1.26.0, but you have numpy 1.24.4 which is incompatible.\u001b[0m\u001b[31m\n",
      "\u001b[0mSuccessfully installed FuzzyTM-2.0.9 fst-pso-1.8.1 miniful-0.0.6 numpy-1.24.4 pandas-1.5.3 pyfume-0.3.4 scipy-1.10.1 simpful-2.12.0\n"
     ]
    }
   ],
   "source": [
    "!pip install gensim"
   ]
  },
  {
   "cell_type": "code",
   "execution_count": 3,
   "id": "e4361ce2-a40c-4c0b-b77a-5f1dff2faf53",
   "metadata": {},
   "outputs": [
    {
     "name": "stdout",
     "output_type": "stream",
     "text": [
      "[==========================------------------------] 53.7% 68.8/128.1MB downloadedWords most similar to 'king':\n",
      "prince: 0.768\n",
      "queen: 0.751\n",
      "son: 0.702\n",
      "brother: 0.699\n",
      "monarch: 0.698\n"
     ]
    }
   ],
   "source": [
    "from gensim.models import KeyedVectors\n",
    "\n",
    "import gensim.downloader as api\n",
    "model = api.load('glove-wiki-gigaword-100')  \n",
    "\n",
    "similar_words = model.most_similar('king', topn=5)\n",
    "\n",
    "print(\"Words most similar to 'king':\")\n",
    "for word, similarity in similar_words:\n",
    "    print(f\"{word}: {similarity:.3f}\")"
   ]
  }
 ],
 "metadata": {
  "kernelspec": {
   "display_name": "anaconda-panel-2023.05-py310",
   "language": "python",
   "name": "conda-env-anaconda-panel-2023.05-py310-py"
  },
  "language_info": {
   "codemirror_mode": {
    "name": "ipython",
    "version": 3
   },
   "file_extension": ".py",
   "mimetype": "text/x-python",
   "name": "python",
   "nbconvert_exporter": "python",
   "pygments_lexer": "ipython3",
   "version": "3.11.5"
  }
 },
 "nbformat": 4,
 "nbformat_minor": 5
}
