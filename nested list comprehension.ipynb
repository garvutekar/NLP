{
 "cells": [
  {
   "cell_type": "code",
   "execution_count": 1,
   "id": "1032e38c-4be0-48ab-82a5-db33bdefc565",
   "metadata": {},
   "outputs": [
    {
     "data": {
      "text/plain": [
       "[[6, 9, 12, 15], [8, 12, 16, 20], [10, 15, 20, 25], [12, 18, 24, 30]]"
      ]
     },
     "execution_count": 1,
     "metadata": {},
     "output_type": "execute_result"
    }
   ],
   "source": [
    "arr = [[i*j for j in range(2,6)] for i in range(3,7)]\n",
    "arr"
   ]
  },
  {
   "cell_type": "code",
   "execution_count": 6,
   "id": "79bc63b7-bf28-4b9b-9bbe-6d63f4430d2f",
   "metadata": {},
   "outputs": [
    {
     "name": "stdout",
     "output_type": "stream",
     "text": [
      "[[1, 5, 9, 13], [2, 6, 10, 14], [3, 7, 11, 15]]\n"
     ]
    }
   ],
   "source": [
    "m = [[1,2,3,4],[5,6,7,8],[9,10,11,12],[13,14,15,16]]\n",
    "newM = [[row[a] for row in m] for a in range(3)]\n",
    "print(newM)"
   ]
  },
  {
   "cell_type": "code",
   "execution_count": 4,
   "id": "bcdb1065-bd2d-4c22-9a5e-fa6ea3a805e6",
   "metadata": {},
   "outputs": [
    {
     "data": {
      "text/plain": [
       "[['g', 'a', 'r', 'v'],\n",
       " ['s', 'h', 'i', 'v'],\n",
       " ['f', 'a', 'l', '1'],\n",
       " ['g', 'u', 'n', 's']]"
      ]
     },
     "execution_count": 4,
     "metadata": {},
     "output_type": "execute_result"
    }
   ],
   "source": [
    "n = [[\"g\", \"s\", \"f\",\"g\"], [\"a\",\"h\",\"a\",\"u\"], [\"r\",\"i\",\"l\",\"n\"],[\"v\",\"v\",\"1\",\"s\"]]\n",
    "newN = [[row[j] for row in n]for j in range(4)]\n",
    "newN"
   ]
  },
  {
   "cell_type": "code",
   "execution_count": null,
   "id": "5de9c72d-4622-4b40-835d-a6329acb6ef9",
   "metadata": {},
   "outputs": [],
   "source": []
  }
 ],
 "metadata": {
  "kernelspec": {
   "display_name": "anaconda-panel-2023.05-py310",
   "language": "python",
   "name": "conda-env-anaconda-panel-2023.05-py310-py"
  },
  "language_info": {
   "codemirror_mode": {
    "name": "ipython",
    "version": 3
   },
   "file_extension": ".py",
   "mimetype": "text/x-python",
   "name": "python",
   "nbconvert_exporter": "python",
   "pygments_lexer": "ipython3",
   "version": "3.11.5"
  }
 },
 "nbformat": 4,
 "nbformat_minor": 5
}
