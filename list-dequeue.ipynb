{
 "cells": [
  {
   "cell_type": "code",
   "execution_count": 15,
   "id": "d573caed-46ae-4b6d-abfe-fd4710c9f5df",
   "metadata": {},
   "outputs": [],
   "source": [
    "from collections import deque  "
   ]
  },
  {
   "cell_type": "code",
   "execution_count": 16,
   "id": "bd117640-1a21-4f49-8fd6-ad86b8b4de63",
   "metadata": {},
   "outputs": [
    {
     "name": "stdout",
     "output_type": "stream",
     "text": [
      "deque([1, 2])\n"
     ]
    }
   ],
   "source": [
    "dq = deque()  \n",
    "dq.append(1)  \n",
    "dq.append(2)\n",
    "print(dq) "
   ]
  },
  {
   "cell_type": "code",
   "execution_count": 17,
   "id": "0a122254-5320-4bc3-af94-17a4281ee73f",
   "metadata": {},
   "outputs": [
    {
     "data": {
      "text/plain": [
       "deque([1])"
      ]
     },
     "execution_count": 17,
     "metadata": {},
     "output_type": "execute_result"
    }
   ],
   "source": [
    "dq.pop()\n",
    "dq"
   ]
  },
  {
   "cell_type": "code",
   "execution_count": 18,
   "id": "75cf0010-1da6-4e35-b3b6-3fab070595e2",
   "metadata": {},
   "outputs": [
    {
     "data": {
      "text/plain": [
       "deque([1, 1, 2, 1, 2, 1, 2])"
      ]
     },
     "execution_count": 18,
     "metadata": {},
     "output_type": "execute_result"
    }
   ],
   "source": [
    "dq.append(1)  \n",
    "dq.append(2)\n",
    "dq.append(1)  \n",
    "dq.append(2)\n",
    "dq.append(1)  \n",
    "dq.append(2)\n",
    "dq"
   ]
  },
  {
   "cell_type": "code",
   "execution_count": 24,
   "id": "3b12282a-dac1-427a-a19d-f2cfa4460997",
   "metadata": {},
   "outputs": [
    {
     "data": {
      "text/plain": [
       "deque([1, 2, 1, 2])"
      ]
     },
     "execution_count": 24,
     "metadata": {},
     "output_type": "execute_result"
    }
   ],
   "source": [
    "dq.pop()\n",
    "dq.popleft()\n",
    "dq"
   ]
  },
  {
   "cell_type": "code",
   "execution_count": 21,
   "id": "f43f72a1-aea5-4651-b853-48ccbaa87e89",
   "metadata": {},
   "outputs": [
    {
     "data": {
      "text/plain": [
       "deque([3, 1, 2, 1, 2, 1])"
      ]
     },
     "execution_count": 21,
     "metadata": {},
     "output_type": "execute_result"
    }
   ],
   "source": [
    "dq.appendleft(3)\n",
    "dq"
   ]
  },
  {
   "cell_type": "code",
   "execution_count": 27,
   "id": "9b497dc8-a721-4440-ad8b-228da16c8929",
   "metadata": {},
   "outputs": [
    {
     "data": {
      "text/plain": [
       "deque(['garv', 'dhruva', 'leisha', 'garv', 'dhruva', 'leisha'])"
      ]
     },
     "execution_count": 27,
     "metadata": {},
     "output_type": "execute_result"
    }
   ],
   "source": [
    "dq1 = deque()\n",
    "dq1.append(\"garv\")  \n",
    "dq1.append(\"dhruva\")\n",
    "dq1.append(\"leisha\") \n",
    "dq1.append(\"garv\")  \n",
    "dq1.append(\"dhruva\")\n",
    "dq1.append(\"leisha\") \n",
    "dq1"
   ]
  },
  {
   "cell_type": "code",
   "execution_count": 29,
   "id": "4fdda279-21d5-43fa-9171-ae218a6b2589",
   "metadata": {},
   "outputs": [
    {
     "data": {
      "text/plain": [
       "deque(['dhruva', 'leisha', 'garv', 'dhruva'])"
      ]
     },
     "execution_count": 29,
     "metadata": {},
     "output_type": "execute_result"
    }
   ],
   "source": [
    "dq1.pop()\n",
    "dq1.popleft()\n",
    "dq1"
   ]
  }
 ],
 "metadata": {
  "kernelspec": {
   "display_name": "anaconda-panel-2023.05-py310",
   "language": "python",
   "name": "conda-env-anaconda-panel-2023.05-py310-py"
  },
  "language_info": {
   "codemirror_mode": {
    "name": "ipython",
    "version": 3
   },
   "file_extension": ".py",
   "mimetype": "text/x-python",
   "name": "python",
   "nbconvert_exporter": "python",
   "pygments_lexer": "ipython3",
   "version": "3.11.5"
  }
 },
 "nbformat": 4,
 "nbformat_minor": 5
}
