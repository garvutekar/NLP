{
 "cells": [
  {
   "cell_type": "code",
   "execution_count": 5,
   "id": "421c8d16-652e-4a50-a858-be9d0c19ae00",
   "metadata": {},
   "outputs": [],
   "source": [
    "class MultipleOfFive:\n",
    "    def multiply(self,x):\n",
    "        ans = 5*x\n",
    "        print(x,\"mutiple of 5 is:-\",ans)"
   ]
  },
  {
   "cell_type": "code",
   "execution_count": 6,
   "id": "47940b40-49d7-452a-9291-fa13f0743712",
   "metadata": {},
   "outputs": [
    {
     "name": "stdout",
     "output_type": "stream",
     "text": [
      "7 mutiple of 5 is:- 35\n"
     ]
    }
   ],
   "source": [
    "ob1 = MultipleOfFive()\n",
    "ob1.multiply(7)"
   ]
  },
  {
   "cell_type": "code",
   "execution_count": 7,
   "id": "8938edc9-42e7-4321-9944-bfd19aef98c1",
   "metadata": {},
   "outputs": [
    {
     "name": "stdout",
     "output_type": "stream",
     "text": [
      "2 mutiple of 5 is:- 10\n"
     ]
    }
   ],
   "source": [
    "ob2 = MultipleOfFive()\n",
    "ob2.multiply(2)"
   ]
  }
 ],
 "metadata": {
  "kernelspec": {
   "display_name": "anaconda-panel-2023.05-py310",
   "language": "python",
   "name": "conda-env-anaconda-panel-2023.05-py310-py"
  },
  "language_info": {
   "codemirror_mode": {
    "name": "ipython",
    "version": 3
   },
   "file_extension": ".py",
   "mimetype": "text/x-python",
   "name": "python",
   "nbconvert_exporter": "python",
   "pygments_lexer": "ipython3",
   "version": "3.11.5"
  }
 },
 "nbformat": 4,
 "nbformat_minor": 5
}
