{
 "cells": [
  {
   "cell_type": "code",
   "execution_count": 48,
   "id": "d37abc0f-08ce-44db-b24b-2b49bc29e0d3",
   "metadata": {},
   "outputs": [],
   "source": [
    "import nltk"
   ]
  },
  {
   "cell_type": "code",
   "execution_count": 49,
   "id": "8d03084a-1b75-4402-b8e6-00cd3d65a66c",
   "metadata": {},
   "outputs": [],
   "source": [
    "words = \"worked working works\""
   ]
  },
  {
   "cell_type": "code",
   "execution_count": 50,
   "id": "3adb5dc4-3767-48a0-8d2d-dd201490134f",
   "metadata": {},
   "outputs": [
    {
     "data": {
      "text/plain": [
       "['worked', 'working', 'works']"
      ]
     },
     "execution_count": 50,
     "metadata": {},
     "output_type": "execute_result"
    }
   ],
   "source": [
    "nltk.word_tokenize(words)"
   ]
  },
  {
   "cell_type": "code",
   "execution_count": 51,
   "id": "53999fef-db84-4cca-b563-376c621b7548",
   "metadata": {},
   "outputs": [],
   "source": [
    "wordsInput = nltk.word_tokenize(words)"
   ]
  },
  {
   "cell_type": "code",
   "execution_count": 52,
   "id": "65e38635-d86a-452e-9ac4-700323271575",
   "metadata": {},
   "outputs": [],
   "source": [
    "porter1 = nltk.PorterStemmer()"
   ]
  },
  {
   "cell_type": "code",
   "execution_count": 53,
   "id": "f00f4fe1-2c3e-49d2-b452-e658afdad8be",
   "metadata": {},
   "outputs": [],
   "source": [
    "words1Output = [porter1.stem(w1) for w1 in wordsInput]"
   ]
  },
  {
   "cell_type": "code",
   "execution_count": 54,
   "id": "ef4c1c42-a219-4003-ad7a-f687bd02fdbe",
   "metadata": {},
   "outputs": [
    {
     "name": "stdout",
     "output_type": "stream",
     "text": [
      "Original Words ['worked', 'working', 'works']\n"
     ]
    }
   ],
   "source": [
    "print(\"Original Words\",wordsInput)"
   ]
  },
  {
   "cell_type": "code",
   "execution_count": 62,
   "id": "6fed01cb-f42a-4212-b6ab-6f94e84c6ba6",
   "metadata": {},
   "outputs": [
    {
     "name": "stdout",
     "output_type": "stream",
     "text": [
      "Stemmed Words using Porter Stemmer ['work', 'work', 'work']\n"
     ]
    }
   ],
   "source": [
    "print(\"Stemmed Words using Porter Stemmer\",words1Output)"
   ]
  },
  {
   "cell_type": "code",
   "execution_count": 67,
   "id": "08f691a7-ae60-47b5-973b-c67e2e10b28a",
   "metadata": {},
   "outputs": [],
   "source": [
    "porter2 = nltk.SnowballStemmer(language='english')"
   ]
  },
  {
   "cell_type": "code",
   "execution_count": 68,
   "id": "f10ed2ba-7666-4ec1-ab07-c7f97c2e60c1",
   "metadata": {},
   "outputs": [],
   "source": [
    "words2Output = [porter2.stem(w2) for w2 in wordsInput]"
   ]
  },
  {
   "cell_type": "code",
   "execution_count": 69,
   "id": "9e62c3cd-bc33-4114-b35c-f5190b637bdd",
   "metadata": {},
   "outputs": [
    {
     "name": "stdout",
     "output_type": "stream",
     "text": [
      "Original Words ['worked', 'working', 'works']\n"
     ]
    }
   ],
   "source": [
    "print(\"Original Words\",wordsInput)"
   ]
  },
  {
   "cell_type": "code",
   "execution_count": 70,
   "id": "736eb48b-9ceb-4738-b99d-450381919b4b",
   "metadata": {},
   "outputs": [
    {
     "name": "stdout",
     "output_type": "stream",
     "text": [
      "Stemmed Words using Snowball Stemmer ['work', 'work', 'work']\n"
     ]
    }
   ],
   "source": [
    "print(\"Stemmed Words using Snowball Stemmer\",words2Output)"
   ]
  },
  {
   "cell_type": "code",
   "execution_count": 71,
   "id": "2f89a226-d503-4568-8ddc-9ee409a1e9d7",
   "metadata": {},
   "outputs": [],
   "source": [
    "porter3 = nltk.LancasterStemmer()"
   ]
  },
  {
   "cell_type": "code",
   "execution_count": 72,
   "id": "a36aab22-730b-4f62-b594-2022d4f73963",
   "metadata": {},
   "outputs": [],
   "source": [
    "words3Output = [porter3.stem(w3) for w3 in wordsInput]"
   ]
  },
  {
   "cell_type": "code",
   "execution_count": 73,
   "id": "0304c8a6-167f-40f8-9c4b-0f35ad33e1c7",
   "metadata": {},
   "outputs": [
    {
     "name": "stdout",
     "output_type": "stream",
     "text": [
      "Original Words ['worked', 'working', 'works']\n"
     ]
    }
   ],
   "source": [
    "print(\"Original Words\",wordsInput)"
   ]
  },
  {
   "cell_type": "code",
   "execution_count": 74,
   "id": "b1fa5dc9-cce8-42d9-ba81-0a171b74d26a",
   "metadata": {},
   "outputs": [
    {
     "name": "stdout",
     "output_type": "stream",
     "text": [
      "Stemmed Words using Lancaster Stemmer ['work', 'work', 'work']\n"
     ]
    }
   ],
   "source": [
    "print(\"Stemmed Words using Lancaster Stemmer\",words3Output)"
   ]
  }
 ],
 "metadata": {
  "kernelspec": {
   "display_name": "anaconda-ai-2024.04-py310",
   "language": "python",
   "name": "conda-env-anaconda-ai-2024.04-py310-py"
  },
  "language_info": {
   "codemirror_mode": {
    "name": "ipython",
    "version": 3
   },
   "file_extension": ".py",
   "mimetype": "text/x-python",
   "name": "python",
   "nbconvert_exporter": "python",
   "pygments_lexer": "ipython3",
   "version": "3.10.13"
  }
 },
 "nbformat": 4,
 "nbformat_minor": 5
}
