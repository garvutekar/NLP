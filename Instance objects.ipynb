{
 "cells": [
  {
   "cell_type": "code",
   "execution_count": 1,
   "id": "ffdeb441-dfa8-4b3a-bc65-65bdf006bf14",
   "metadata": {},
   "outputs": [],
   "source": [
    "class Person():\n",
    "    def __init__(self):\n",
    "        self.name = \"\"\n",
    "        self.age = 0\n",
    "        self.weight = 0.0\n",
    "\n",
    "    def printing(self):\n",
    "        print(\"Name:-\",self.name)\n",
    "        print(\"Age:-\",self.age)\n",
    "        print(\"Weight:-\",self.weight)"
   ]
  },
  {
   "cell_type": "code",
   "execution_count": 2,
   "id": "d5716cd0-a3f3-400b-ad02-37c8dd354676",
   "metadata": {},
   "outputs": [
    {
     "name": "stdout",
     "output_type": "stream",
     "text": [
      "Name:- Garv\n",
      "Age:- 18\n",
      "Weight:- 70\n"
     ]
    }
   ],
   "source": [
    "person1 = Person()\n",
    "person1.name = \"Garv\"\n",
    "person1.age = \"18\"\n",
    "person1.weight = \"70\"\n",
    "person1.printing()"
   ]
  },
  {
   "cell_type": "code",
   "execution_count": 3,
   "id": "fb9e4d9b-d04c-4135-a587-1edc8f4fd0b8",
   "metadata": {},
   "outputs": [
    {
     "name": "stdout",
     "output_type": "stream",
     "text": [
      "Name:- Sarah\n",
      "Age:- 17\n",
      "Weight:- 55\n"
     ]
    }
   ],
   "source": [
    "person2 = Person()\n",
    "person2.name = \"Sarah\"\n",
    "person2.age = \"17\"\n",
    "person2.weight = \"55\"\n",
    "Person.printing(person2)"
   ]
  }
 ],
 "metadata": {
  "kernelspec": {
   "display_name": "anaconda-panel-2023.05-py310",
   "language": "python",
   "name": "conda-env-anaconda-panel-2023.05-py310-py"
  },
  "language_info": {
   "codemirror_mode": {
    "name": "ipython",
    "version": 3
   },
   "file_extension": ".py",
   "mimetype": "text/x-python",
   "name": "python",
   "nbconvert_exporter": "python",
   "pygments_lexer": "ipython3",
   "version": "3.11.5"
  }
 },
 "nbformat": 4,
 "nbformat_minor": 5
}
