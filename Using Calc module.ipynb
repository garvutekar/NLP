{
 "cells": [
  {
   "cell_type": "code",
   "execution_count": 15,
   "id": "751ebf7f-b8fc-4b8e-a976-6d6e10285a4e",
   "metadata": {},
   "outputs": [],
   "source": [
    "import calc"
   ]
  },
  {
   "cell_type": "code",
   "execution_count": 16,
   "id": "3cdeef07-e7bd-4181-9c6d-78ba0d3e6434",
   "metadata": {},
   "outputs": [
    {
     "name": "stdout",
     "output_type": "stream",
     "text": [
      "88\n",
      "68\n",
      "-18\n",
      "368\n",
      "Number cannot be divided by 0\n",
      "3.652173913043478\n"
     ]
    }
   ],
   "source": [
    "calc.addition(13,75)\n",
    "calc.subtraction(89,21)\n",
    "calc.subtraction(3,21)\n",
    "calc.multiplication(4,92)\n",
    "calc.division(195,0)\n",
    "calc.division(84,23)"
   ]
  }
 ],
 "metadata": {
  "kernelspec": {
   "display_name": "anaconda-panel-2023.05-py310",
   "language": "python",
   "name": "conda-env-anaconda-panel-2023.05-py310-py"
  },
  "language_info": {
   "codemirror_mode": {
    "name": "ipython",
    "version": 3
   },
   "file_extension": ".py",
   "mimetype": "text/x-python",
   "name": "python",
   "nbconvert_exporter": "python",
   "pygments_lexer": "ipython3",
   "version": "3.11.5"
  }
 },
 "nbformat": 4,
 "nbformat_minor": 5
}
