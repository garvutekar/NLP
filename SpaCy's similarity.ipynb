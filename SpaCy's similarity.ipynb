{
 "cells": [
  {
   "cell_type": "code",
   "execution_count": 3,
   "id": "f9f0016f-0de5-4927-a3da-8072ba9bc747",
   "metadata": {},
   "outputs": [
    {
     "name": "stdout",
     "output_type": "stream",
     "text": [
      "Similarity between:\n",
      "'I love working out'\n",
      "'Enjoying sci-fi movies is my favorite hobby'\n",
      "Score: 0.62\n",
      "\n",
      "Similarity between:\n",
      "'I love working out'\n",
      "'Driving cars fast is cool'\n",
      "Score: 0.62\n"
     ]
    }
   ],
   "source": [
    "import spacy \n",
    "\n",
    "nlp = spacy.load(\"en_core_web_md\")\n",
    "\n",
    "sentence1 = \"I love working out\"\n",
    "sentence2 = \"Enjoying sci-fi movies is my favorite hobby\"\n",
    "sentence3 = \"Driving cars fast is cool\"\n",
    "\n",
    "doc1 = nlp(sentence1)\n",
    "doc2 = nlp(sentence2)\n",
    "doc3 = nlp(sentence3)\n",
    "\n",
    "print(f\"Similarity between:\\n'{sentence1}'\\n'{sentence2}'\\nScore: {doc1.similarity(doc2):.2f}\\n\")\n",
    "\n",
    "print(f\"Similarity between:\\n'{sentence1}'\\n'{sentence3}'\\nScore: {doc1.similarity(doc3):.2f}\")"
   ]
  }
 ],
 "metadata": {
  "kernelspec": {
   "display_name": "anaconda-panel-2023.05-py310",
   "language": "python",
   "name": "conda-env-anaconda-panel-2023.05-py310-py"
  },
  "language_info": {
   "codemirror_mode": {
    "name": "ipython",
    "version": 3
   },
   "file_extension": ".py",
   "mimetype": "text/x-python",
   "name": "python",
   "nbconvert_exporter": "python",
   "pygments_lexer": "ipython3",
   "version": "3.11.5"
  }
 },
 "nbformat": 4,
 "nbformat_minor": 5
}
