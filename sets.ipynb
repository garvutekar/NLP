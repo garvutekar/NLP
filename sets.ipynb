{
 "cells": [
  {
   "cell_type": "code",
   "execution_count": 3,
   "id": "18ac291b-cec7-41d5-9013-938184f6743f",
   "metadata": {},
   "outputs": [
    {
     "data": {
      "text/plain": [
       "{'biology', 'chemistry', 'literature', 'math', 'physics'}"
      ]
     },
     "execution_count": 3,
     "metadata": {},
     "output_type": "execute_result"
    }
   ],
   "source": [
    "subjects = {'math','physics','biology','literature','chemistry'}\n",
    "subjects"
   ]
  },
  {
   "cell_type": "code",
   "execution_count": 4,
   "id": "19a4c2a3-04cb-44a9-883d-00a6aebf9c64",
   "metadata": {},
   "outputs": [
    {
     "data": {
      "text/plain": [
       "True"
      ]
     },
     "execution_count": 4,
     "metadata": {},
     "output_type": "execute_result"
    }
   ],
   "source": [
    "'math' in subjects "
   ]
  },
  {
   "cell_type": "code",
   "execution_count": 6,
   "id": "916cb8c9-1bec-4339-8ed8-36f9e579cd92",
   "metadata": {},
   "outputs": [
    {
     "data": {
      "text/plain": [
       "False"
      ]
     },
     "execution_count": 6,
     "metadata": {},
     "output_type": "execute_result"
    }
   ],
   "source": [
    "'cake' in subjects"
   ]
  },
  {
   "cell_type": "code",
   "execution_count": 10,
   "id": "132313cb-933c-44a4-9502-2f2243646a0b",
   "metadata": {},
   "outputs": [
    {
     "name": "stdout",
     "output_type": "stream",
     "text": [
      "{'k', 'h', 'i', 'u', 'p', 'a', 'c'}\n",
      "{'s', 'u', 'r', 'a', 'e', 'c'}\n",
      "{'w', 'o', 'm', 't', 'e'}\n"
     ]
    }
   ],
   "source": [
    "a = set('pikachu')\n",
    "b = set('arceus')\n",
    "c = set('mewtwo')\n",
    "print(a)\n",
    "print(b)\n",
    "print(c)"
   ]
  },
  {
   "cell_type": "code",
   "execution_count": 11,
   "id": "2f3d9560-7aa4-413c-94b6-8e755d0899f0",
   "metadata": {},
   "outputs": [
    {
     "data": {
      "text/plain": [
       "{'h', 'i', 'k', 'p'}"
      ]
     },
     "execution_count": 11,
     "metadata": {},
     "output_type": "execute_result"
    }
   ],
   "source": [
    "a-b"
   ]
  },
  {
   "cell_type": "code",
   "execution_count": 12,
   "id": "41c8abd9-a8a4-41aa-92df-0a48ae04901a",
   "metadata": {},
   "outputs": [
    {
     "data": {
      "text/plain": [
       "{'a', 'c', 'h', 'i', 'k', 'p', 'u'}"
      ]
     },
     "execution_count": 12,
     "metadata": {},
     "output_type": "execute_result"
    }
   ],
   "source": [
    "a-c"
   ]
  },
  {
   "cell_type": "code",
   "execution_count": 13,
   "id": "003eed0b-4198-4fb5-b859-530a5dea15d3",
   "metadata": {},
   "outputs": [
    {
     "data": {
      "text/plain": [
       "{'e', 'r', 's'}"
      ]
     },
     "execution_count": 13,
     "metadata": {},
     "output_type": "execute_result"
    }
   ],
   "source": [
    "b-a"
   ]
  },
  {
   "cell_type": "code",
   "execution_count": 14,
   "id": "f4661bee-4b0d-4929-b560-b815d9820cf1",
   "metadata": {},
   "outputs": [
    {
     "data": {
      "text/plain": [
       "{'a', 'c', 'r', 's', 'u'}"
      ]
     },
     "execution_count": 14,
     "metadata": {},
     "output_type": "execute_result"
    }
   ],
   "source": [
    "b-c"
   ]
  },
  {
   "cell_type": "code",
   "execution_count": 15,
   "id": "39f5ca57-283f-417e-a30e-5ac979393fba",
   "metadata": {},
   "outputs": [
    {
     "data": {
      "text/plain": [
       "{'e', 'm', 'o', 't', 'w'}"
      ]
     },
     "execution_count": 15,
     "metadata": {},
     "output_type": "execute_result"
    }
   ],
   "source": [
    "c-a"
   ]
  },
  {
   "cell_type": "code",
   "execution_count": 16,
   "id": "0772fe5b-95ee-4f48-93cc-a03c96acd82d",
   "metadata": {},
   "outputs": [
    {
     "data": {
      "text/plain": [
       "{'m', 'o', 't', 'w'}"
      ]
     },
     "execution_count": 16,
     "metadata": {},
     "output_type": "execute_result"
    }
   ],
   "source": [
    "c-b"
   ]
  },
  {
   "cell_type": "code",
   "execution_count": 17,
   "id": "83883785-e7ae-4a61-9aed-35e8674d2011",
   "metadata": {},
   "outputs": [
    {
     "data": {
      "text/plain": [
       "{'a', 'c', 'e', 'h', 'i', 'k', 'p', 'r', 's', 'u'}"
      ]
     },
     "execution_count": 17,
     "metadata": {},
     "output_type": "execute_result"
    }
   ],
   "source": [
    "a|b"
   ]
  },
  {
   "cell_type": "code",
   "execution_count": 18,
   "id": "c5f364c0-9481-4f19-b3b1-b08884492373",
   "metadata": {},
   "outputs": [
    {
     "data": {
      "text/plain": [
       "{'a', 'c', 'e', 'h', 'i', 'k', 'm', 'o', 'p', 't', 'u', 'w'}"
      ]
     },
     "execution_count": 18,
     "metadata": {},
     "output_type": "execute_result"
    }
   ],
   "source": [
    "a|c"
   ]
  },
  {
   "cell_type": "code",
   "execution_count": 19,
   "id": "060e35be-7920-416e-9ef0-c22605c3b373",
   "metadata": {},
   "outputs": [
    {
     "data": {
      "text/plain": [
       "{'a', 'c', 'e', 'm', 'o', 'r', 's', 't', 'u', 'w'}"
      ]
     },
     "execution_count": 19,
     "metadata": {},
     "output_type": "execute_result"
    }
   ],
   "source": [
    "b|c"
   ]
  },
  {
   "cell_type": "code",
   "execution_count": 20,
   "id": "5ff8f60a-631f-48b1-8162-1bd4f42c4605",
   "metadata": {},
   "outputs": [
    {
     "data": {
      "text/plain": [
       "{'a', 'c', 'u'}"
      ]
     },
     "execution_count": 20,
     "metadata": {},
     "output_type": "execute_result"
    }
   ],
   "source": [
    "a&b"
   ]
  },
  {
   "cell_type": "code",
   "execution_count": 21,
   "id": "270aea03-a06b-45ce-a041-d84e5fc54c43",
   "metadata": {},
   "outputs": [
    {
     "data": {
      "text/plain": [
       "set()"
      ]
     },
     "execution_count": 21,
     "metadata": {},
     "output_type": "execute_result"
    }
   ],
   "source": [
    "a&c"
   ]
  },
  {
   "cell_type": "code",
   "execution_count": 22,
   "id": "3178380d-969d-42be-842a-6d738847069c",
   "metadata": {},
   "outputs": [
    {
     "data": {
      "text/plain": [
       "{'e'}"
      ]
     },
     "execution_count": 22,
     "metadata": {},
     "output_type": "execute_result"
    }
   ],
   "source": [
    "b&c"
   ]
  },
  {
   "cell_type": "code",
   "execution_count": 24,
   "id": "88080775-a48b-43e3-bf69-9243c5d37756",
   "metadata": {},
   "outputs": [
    {
     "data": {
      "text/plain": [
       "{'e', 'h', 'i', 'k', 'p', 'r', 's'}"
      ]
     },
     "execution_count": 24,
     "metadata": {},
     "output_type": "execute_result"
    }
   ],
   "source": [
    "a^b"
   ]
  },
  {
   "cell_type": "code",
   "execution_count": 25,
   "id": "974a4744-50b1-4ef0-b42c-3810e143b4f0",
   "metadata": {},
   "outputs": [
    {
     "data": {
      "text/plain": [
       "{'a', 'c', 'm', 'o', 'r', 's', 't', 'u', 'w'}"
      ]
     },
     "execution_count": 25,
     "metadata": {},
     "output_type": "execute_result"
    }
   ],
   "source": [
    "b^c"
   ]
  },
  {
   "cell_type": "code",
   "execution_count": 26,
   "id": "923635a3-db49-4f21-96f2-8eb556bbdea5",
   "metadata": {},
   "outputs": [
    {
     "data": {
      "text/plain": [
       "{'a', 'c', 'e', 'h', 'i', 'k', 'm', 'o', 'p', 't', 'u', 'w'}"
      ]
     },
     "execution_count": 26,
     "metadata": {},
     "output_type": "execute_result"
    }
   ],
   "source": [
    "a^c"
   ]
  }
 ],
 "metadata": {
  "kernelspec": {
   "display_name": "anaconda-panel-2023.05-py310",
   "language": "python",
   "name": "conda-env-anaconda-panel-2023.05-py310-py"
  },
  "language_info": {
   "codemirror_mode": {
    "name": "ipython",
    "version": 3
   },
   "file_extension": ".py",
   "mimetype": "text/x-python",
   "name": "python",
   "nbconvert_exporter": "python",
   "pygments_lexer": "ipython3",
   "version": "3.11.5"
  }
 },
 "nbformat": 4,
 "nbformat_minor": 5
}
