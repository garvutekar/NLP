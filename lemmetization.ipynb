{
 "cells": [
  {
   "cell_type": "code",
   "execution_count": 58,
   "id": "c51dc6b1-27f0-4446-a1b3-a2d045d88348",
   "metadata": {},
   "outputs": [],
   "source": [
    "import nltk"
   ]
  },
  {
   "cell_type": "code",
   "execution_count": 59,
   "id": "d510731c-4b26-4ca9-863c-f0bc1619c986",
   "metadata": {},
   "outputs": [],
   "source": [
    "words = \" overworked heroism chivalrous helpless needful working\""
   ]
  },
  {
   "cell_type": "code",
   "execution_count": 60,
   "id": "8b4f0b3a-e245-4bff-929f-21810ef7ffe9",
   "metadata": {},
   "outputs": [],
   "source": [
    "word = nltk.word_tokenize(words)"
   ]
  },
  {
   "cell_type": "code",
   "execution_count": 61,
   "id": "d72c9533-e54c-4276-bb1a-192632925fc5",
   "metadata": {},
   "outputs": [
    {
     "name": "stdout",
     "output_type": "stream",
     "text": [
      "['overworked', 'heroism', 'chivalrous', 'helpless', 'needful', 'working']\n"
     ]
    }
   ],
   "source": [
    "print(word)"
   ]
  },
  {
   "cell_type": "code",
   "execution_count": 62,
   "id": "694bcc47-c9e7-45d3-90ef-84feb7203009",
   "metadata": {},
   "outputs": [],
   "source": [
    "porter1 = nltk.PorterStemmer()"
   ]
  },
  {
   "cell_type": "code",
   "execution_count": 63,
   "id": "3c0b174d-2c12-4be7-84a9-6fb046e7d9ee",
   "metadata": {},
   "outputs": [],
   "source": [
    "word1 = [porter1.stem(w1) for w1 in word]"
   ]
  },
  {
   "cell_type": "code",
   "execution_count": 64,
   "id": "45f6aa2a-c615-4c0b-bd8d-637346148997",
   "metadata": {},
   "outputs": [],
   "source": [
    "porter2 = nltk.SnowballStemmer(language='english')"
   ]
  },
  {
   "cell_type": "code",
   "execution_count": 65,
   "id": "c171ebb8-fa44-4c3b-aeea-d58c3de707e3",
   "metadata": {},
   "outputs": [],
   "source": [
    "word2 = [porter2.stem(w2) for w2 in word]"
   ]
  },
  {
   "cell_type": "code",
   "execution_count": 66,
   "id": "2575a148-8d5d-45bb-bf7f-f01d3cd1939b",
   "metadata": {},
   "outputs": [],
   "source": [
    "porter3 = nltk.LancasterStemmer()"
   ]
  },
  {
   "cell_type": "code",
   "execution_count": 67,
   "id": "29e3dc16-f820-41c9-ba8b-c61b6fed11ef",
   "metadata": {},
   "outputs": [],
   "source": [
    "word3 = [porter3.stem(w3) for w3 in word]"
   ]
  },
  {
   "cell_type": "code",
   "execution_count": 68,
   "id": "e26e3798-798d-4300-95f5-3c86efa9f7e0",
   "metadata": {},
   "outputs": [],
   "source": [
    "wn = nltk.WordNetLemmatizer()"
   ]
  },
  {
   "cell_type": "code",
   "execution_count": 69,
   "id": "86c46bfd-9bc7-4103-909b-ea2cb0d8d716",
   "metadata": {},
   "outputs": [],
   "source": [
    "word4 = [wn.lemmatize(w4) for w4 in word]"
   ]
  },
  {
   "cell_type": "code",
   "execution_count": 70,
   "id": "450a7638-bdbb-4511-9439-5abcdef540b5",
   "metadata": {},
   "outputs": [
    {
     "name": "stdout",
     "output_type": "stream",
     "text": [
      "Original words:  overworked heroism chivalrous helpless needful working\n"
     ]
    }
   ],
   "source": [
    "print(\"Original words:\", words)"
   ]
  },
  {
   "cell_type": "code",
   "execution_count": 71,
   "id": "1f4fa8ba-318e-4b2b-a263-b9bf83e9cb19",
   "metadata": {},
   "outputs": [
    {
     "name": "stdout",
     "output_type": "stream",
     "text": [
      "Original words after tokenization: ['overworked', 'heroism', 'chivalrous', 'helpless', 'needful', 'working']\n"
     ]
    }
   ],
   "source": [
    "print(\"Original words after tokenization:\", word)"
   ]
  },
  {
   "cell_type": "code",
   "execution_count": 72,
   "id": "cfdbabf5-62b4-4cd6-b4de-7dc4920aed04",
   "metadata": {},
   "outputs": [
    {
     "name": "stdout",
     "output_type": "stream",
     "text": [
      "Stemmed words using Porter Stemmer: ['overwork', 'heroism', 'chivalr', 'helpless', 'need', 'work']\n"
     ]
    }
   ],
   "source": [
    "print(\"Stemmed words using Porter Stemmer:\", word1)"
   ]
  },
  {
   "cell_type": "code",
   "execution_count": 73,
   "id": "2c3a0efe-106e-4cf6-ad73-75238db512a7",
   "metadata": {},
   "outputs": [
    {
     "name": "stdout",
     "output_type": "stream",
     "text": [
      "Stemmed words using Snowball Stemmer: ['overwork', 'heroism', 'chivalr', 'helpless', 'need', 'work']\n"
     ]
    }
   ],
   "source": [
    "print(\"Stemmed words using Snowball Stemmer:\", word2)"
   ]
  },
  {
   "cell_type": "code",
   "execution_count": 74,
   "id": "da898a9b-b15c-45c9-bb70-76cc4da570cf",
   "metadata": {},
   "outputs": [
    {
     "name": "stdout",
     "output_type": "stream",
     "text": [
      "Stemmed words using Lancaster Stemmer: ['overwork', 'hero', 'chivalr', 'helpless', 'nee', 'work']\n"
     ]
    }
   ],
   "source": [
    "print(\"Stemmed words using Lancaster Stemmer:\", word3)"
   ]
  },
  {
   "cell_type": "code",
   "execution_count": 75,
   "id": "c61fe9a8-fa03-4133-986d-d3d4056666ea",
   "metadata": {},
   "outputs": [
    {
     "name": "stdout",
     "output_type": "stream",
     "text": [
      "Lemmatized words: ['overworked', 'heroism', 'chivalrous', 'helpless', 'needful', 'working']\n"
     ]
    }
   ],
   "source": [
    "print(\"Lemmatized words:\", word4)"
   ]
  }
 ],
 "metadata": {
  "kernelspec": {
   "display_name": "anaconda-ai-2024.04-py310",
   "language": "python",
   "name": "conda-env-anaconda-ai-2024.04-py310-py"
  },
  "language_info": {
   "codemirror_mode": {
    "name": "ipython",
    "version": 3
   },
   "file_extension": ".py",
   "mimetype": "text/x-python",
   "name": "python",
   "nbconvert_exporter": "python",
   "pygments_lexer": "ipython3",
   "version": "3.10.13"
  }
 },
 "nbformat": 4,
 "nbformat_minor": 5
}
