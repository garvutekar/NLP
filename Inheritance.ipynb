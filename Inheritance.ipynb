{
 "cells": [
  {
   "cell_type": "code",
   "execution_count": 7,
   "id": "d3924b69-fd16-4b5c-97bb-a8a2a332806e",
   "metadata": {},
   "outputs": [],
   "source": [
    "class Company:\n",
    "    def __init__(self, name=\"\", emp_num=0, salary=0.0, service_years=0):\n",
    "        self.name = name\n",
    "        self.emp_num = emp_num\n",
    "        self.salary = salary\n",
    "        self.service_years = service_years\n",
    "\n",
    "class Employee(Company):\n",
    "    def cash_in_hand(self):\n",
    "        amt_rcv = self.salary - ((30 * self.salary) / 100)\n",
    "        print(f\"Cash in hand: {amt_rcv}\")\n",
    "    \n",
    "    def gratuity(self):\n",
    "        if self.service_years >= 5:\n",
    "            gratuity_amount = (15 * self.salary * self.service_years) / 100\n",
    "            print(f\"Gratuity amount: {gratuity_amount}\")\n",
    "        else:\n",
    "            print(\"Not eligible for gratuity\")\n",
    "\n",
    "    def printing(self):\n",
    "        print(\"Name:-\",self.name)\n",
    "        print(\"Employee number:-\",self.emp_num)\n",
    "        print(\"Salary:-\",self.salary)\n",
    "        print(\"Years of service:-\",self.service_years)"
   ]
  },
  {
   "cell_type": "code",
   "execution_count": 8,
   "id": "9c265fdb-1d82-48b2-a79c-b4f75da4620c",
   "metadata": {},
   "outputs": [
    {
     "name": "stdout",
     "output_type": "stream",
     "text": [
      "Name:- Amit\n",
      "Employee number:- 746285\n",
      "Salary:- 200000\n",
      "Years of service:- 7\n",
      "Cash in hand: 140000.0\n",
      "Gratuity amount: 210000.0\n"
     ]
    }
   ],
   "source": [
    "p1 = Employee(name=\"Amit\", emp_num=746285, salary=200000, service_years=7)\n",
    "p1.printing()\n",
    "p1.cash_in_hand()\n",
    "p1.gratuity()"
   ]
  },
  {
   "cell_type": "code",
   "execution_count": 9,
   "id": "1ba9b73e-e4e4-4ad9-858b-890e523aaf3a",
   "metadata": {},
   "outputs": [
    {
     "name": "stdout",
     "output_type": "stream",
     "text": [
      "Name:- Mukesh\n",
      "Employee number:- 892416\n",
      "Salary:- 2000000\n",
      "Years of service:- 3\n",
      "Cash in hand: 1400000.0\n",
      "Not eligible for gratuity\n"
     ]
    }
   ],
   "source": [
    "p2 = Employee(name=\"Mukesh\", emp_num=892416, salary=2000000, service_years=3)\n",
    "p2.printing()\n",
    "p2.cash_in_hand()\n",
    "p2.gratuity()"
   ]
  }
 ],
 "metadata": {
  "kernelspec": {
   "display_name": "anaconda-panel-2023.05-py310",
   "language": "python",
   "name": "conda-env-anaconda-panel-2023.05-py310-py"
  },
  "language_info": {
   "codemirror_mode": {
    "name": "ipython",
    "version": 3
   },
   "file_extension": ".py",
   "mimetype": "text/x-python",
   "name": "python",
   "nbconvert_exporter": "python",
   "pygments_lexer": "ipython3",
   "version": "3.11.5"
  }
 },
 "nbformat": 4,
 "nbformat_minor": 5
}
