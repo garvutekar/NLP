{
 "cells": [
  {
   "cell_type": "code",
   "execution_count": 1,
   "id": "42715b13-b263-4df9-b97a-f8a11a288bbe",
   "metadata": {},
   "outputs": [
    {
     "name": "stdout",
     "output_type": "stream",
     "text": [
      "The greeting is:-hello\n",
      "The salutaion is:-sir\n"
     ]
    }
   ],
   "source": [
    "from Package.moduleA import greeting,salutation\n",
    "\n",
    "greeting(\"hello\")\n",
    "salutation(\"sir\")"
   ]
  }
 ],
 "metadata": {
  "kernelspec": {
   "display_name": "anaconda-panel-2023.05-py310",
   "language": "python",
   "name": "conda-env-anaconda-panel-2023.05-py310-py"
  },
  "language_info": {
   "codemirror_mode": {
    "name": "ipython",
    "version": 3
   },
   "file_extension": ".py",
   "mimetype": "text/x-python",
   "name": "python",
   "nbconvert_exporter": "python",
   "pygments_lexer": "ipython3",
   "version": "3.11.5"
  }
 },
 "nbformat": 4,
 "nbformat_minor": 5
}
