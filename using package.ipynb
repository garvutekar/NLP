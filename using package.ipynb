{
 "cells": [
  {
   "cell_type": "code",
   "execution_count": 15,
   "id": "34f5746c-b602-436f-af94-b1b40ab41adf",
   "metadata": {},
   "outputs": [
    {
     "name": "stdout",
     "output_type": "stream",
     "text": [
      "hello my name is ashish\n",
      "my age is 19\n"
     ]
    }
   ],
   "source": [
    "import info\n",
    "print(info.name(\"ashish\"))\n",
    "print(info.age(19))"
   ]
  },
  {
   "cell_type": "code",
   "execution_count": 21,
   "id": "a8189d44-7de1-41f9-8eac-c8de9d764427",
   "metadata": {},
   "outputs": [
    {
     "name": "stdout",
     "output_type": "stream",
     "text": [
      "answer is11\n",
      "answer is8\n"
     ]
    }
   ],
   "source": [
    "from functions import add,subtract\n",
    "print(add(7,4))\n",
    "print(subtract(10,2))"
   ]
  }
 ],
 "metadata": {
  "kernelspec": {
   "display_name": "anaconda-panel-2023.05-py310",
   "language": "python",
   "name": "conda-env-anaconda-panel-2023.05-py310-py"
  },
  "language_info": {
   "codemirror_mode": {
    "name": "ipython",
    "version": 3
   },
   "file_extension": ".py",
   "mimetype": "text/x-python",
   "name": "python",
   "nbconvert_exporter": "python",
   "pygments_lexer": "ipython3",
   "version": "3.11.5"
  }
 },
 "nbformat": 4,
 "nbformat_minor": 5
}
