{
 "cells": [
  {
   "cell_type": "code",
   "execution_count": 2,
   "id": "4089ddb2-7775-409f-a65d-8c36be60261e",
   "metadata": {},
   "outputs": [
    {
     "name": "stdout",
     "output_type": "stream",
     "text": [
      "My name is Garv\n",
      "None\n",
      "My age is 18\n",
      "None\n"
     ]
    }
   ],
   "source": [
    "from my_package.module1 import name,age\n",
    "\n",
    "print(name(\"Garv\"))\n",
    "print(age(18))"
   ]
  },
  {
   "cell_type": "code",
   "execution_count": null,
   "id": "8bfb46e0-9df9-4e88-8d66-d8e6ff5f6ee7",
   "metadata": {},
   "outputs": [],
   "source": []
  }
 ],
 "metadata": {
  "kernelspec": {
   "display_name": "anaconda-panel-2023.05-py310",
   "language": "python",
   "name": "conda-env-anaconda-panel-2023.05-py310-py"
  },
  "language_info": {
   "codemirror_mode": {
    "name": "ipython",
    "version": 3
   },
   "file_extension": ".py",
   "mimetype": "text/x-python",
   "name": "python",
   "nbconvert_exporter": "python",
   "pygments_lexer": "ipython3",
   "version": "3.11.5"
  }
 },
 "nbformat": 4,
 "nbformat_minor": 5
}
