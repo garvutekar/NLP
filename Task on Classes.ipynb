{
 "cells": [
  {
   "cell_type": "code",
   "execution_count": 38,
   "id": "4a286eba-6d3f-4d98-8540-a6d8a2ed40cd",
   "metadata": {},
   "outputs": [],
   "source": [
    "class Book:\n",
    "    total_books = 0\n",
    "\n",
    "    def __init__(self, title, author, isbn):\n",
    "        self.title = title\n",
    "        self.__isbn = isbn\n",
    "        self.author = author\n",
    "        self.available = True\n",
    "        Book.total_books += 1 \n",
    "\n",
    "    def getter_isbn(self):\n",
    "        return self.__isbn\n",
    "\n",
    "    def setter_isbn(self, new_isbn):\n",
    "        if len(str(new_isbn)) == 13:\n",
    "            self.__isbn = new_isbn\n",
    "        else:\n",
    "            print(\"ISBN number should be 13 digits\")\n",
    "\n",
    "    def borrow_book(self):\n",
    "        if self.available:\n",
    "            self.available = False\n",
    "            return True\n",
    "        return False\n",
    "\n",
    "    def return_book(self):\n",
    "        self.available = True\n",
    "\n",
    "    def __str__(self):\n",
    "        status = \"Available\" if self.available else \"Unavailable\"\n",
    "        return f\"'{self.title}' by {self.author} ({status})\"\n",
    "\n",
    "\n",
    "class EBook(Book):\n",
    "    def __init__(self, title, author, isbn, file_format, download_link):\n",
    "        super().__init__(title, author, isbn)\n",
    "        self.file_format = file_format\n",
    "        self.download_link = download_link\n",
    "\n",
    "    def __str__(self):\n",
    "        status = \"Available\" if self.available else \"Unavailable\"\n",
    "        return f\"'{self.title}' by {self.author} ({status}) - Format: {self.file_format}\"\n",
    "\n",
    "\n",
    "class Library:\n",
    "    def __init__(self):\n",
    "        self.books = []\n",
    "\n",
    "    def __iter__(self):\n",
    "        return iter(self.books)\n",
    "\n",
    "    def add_books(self, book):\n",
    "        self.books.append(book)\n",
    "\n",
    "    def borrow_books(self, title):\n",
    "        for book in self.books:\n",
    "            if book.title == title:\n",
    "                if book.borrow_book():\n",
    "                    print(f\"Successfully borrowed: {book.title}\")\n",
    "                    return\n",
    "                else:\n",
    "                    print(f\"'{book.title}' is not available\")\n",
    "                    return\n",
    "        print(f\"Book '{title}' not found\")\n",
    "\n",
    "    def return_book(self, title):\n",
    "        for book in self.books:\n",
    "            if book.title == title:\n",
    "                if not book.available:\n",
    "                    book.return_book()\n",
    "                    print(f\"Thank you for returning {book.title}\")\n",
    "                    return\n",
    "                else:\n",
    "                    print(f\"Book {title} wasn't borrowed\")\n",
    "                    return\n",
    "        print(f\"Book {title} not found\")\n",
    "\n",
    "    def list_books(self):\n",
    "        print(\"\\nLibrary Books:\")\n",
    "        for book in self.books:\n",
    "            print(book)\n",
    "\n",
    "    def available_books(self):\n",
    "        print(\"\\nAvailable Books:\")\n",
    "        for book in self.books:\n",
    "            if book.available:\n",
    "                print(book)\n",
    "\n",
    "    def books_by_author(self, author):\n",
    "        print(f\"\\nBooks by {author}:\")\n",
    "        for book in self.books:\n",
    "            if author.lower() in book.author.lower():\n",
    "                print(book)\n",
    "\n",
    "    def books_by_title_keyword(self, keyword):\n",
    "        print(f\"\\nBooks with '{keyword}' in title:\")\n",
    "        for book in self.books:\n",
    "            if keyword.lower() in book.title.lower():\n",
    "                print(book)"
   ]
  },
  {
   "cell_type": "code",
   "execution_count": 39,
   "id": "e05b8cca-4302-412c-a18c-6053934108ef",
   "metadata": {},
   "outputs": [],
   "source": [
    "test = Library()"
   ]
  },
  {
   "cell_type": "code",
   "execution_count": 40,
   "id": "6a091e0e-1ae5-4de1-8d2d-6491fd9560d2",
   "metadata": {},
   "outputs": [],
   "source": [
    "book1 = Book(\"Psychology of Money\",\"Morgan Housel\",\"1285749302856\")\n",
    "book2 = Book(\"The Dark Matter\",\"Blake Crouch\",\"8394021845729\")\n",
    "book3 = EBook(\"Harry Potter\",\"J.K.Rowling\",\"8390174892053\",\"PDF\",\"www.bookworm.com\")\n",
    "\n",
    "test.add_books(book1)\n",
    "test.add_books(book2)\n",
    "test.add_books(book3)"
   ]
  },
  {
   "cell_type": "code",
   "execution_count": 41,
   "id": "01cadfc4-7e87-4d88-8dbf-675506232558",
   "metadata": {},
   "outputs": [
    {
     "name": "stdout",
     "output_type": "stream",
     "text": [
      "\n",
      "Library Books:\n",
      "'Psychology of Money' by Morgan Housel (Available)\n",
      "'The Dark Matter' by Blake Crouch (Available)\n",
      "'Harry Potter' by J.K.Rowling (Available) - Format: PDF\n"
     ]
    }
   ],
   "source": [
    "test.list_books()"
   ]
  },
  {
   "cell_type": "code",
   "execution_count": 42,
   "id": "1b050cf7-423b-482a-b887-3edceae9098c",
   "metadata": {},
   "outputs": [
    {
     "name": "stdout",
     "output_type": "stream",
     "text": [
      "Books in the library:\n",
      "Psychology of Money by Morgan Housel\n",
      "The Dark Matter by Blake Crouch\n",
      "Harry Potter by J.K.Rowling\n"
     ]
    }
   ],
   "source": [
    "print(\"Books in the library:\")\n",
    "for book in test:\n",
    "    print(f\"{book.title} by {book.author}\")"
   ]
  },
  {
   "cell_type": "code",
   "execution_count": 44,
   "id": "4bb7e75f-c4af-49f1-9d7c-ffb55eadfdcb",
   "metadata": {},
   "outputs": [
    {
     "name": "stdout",
     "output_type": "stream",
     "text": [
      "Books by J.K.Rowling:\n",
      "- Harry Potter\n"
     ]
    }
   ],
   "source": [
    "author_tofind = \"J.K.Rowling\"\n",
    "print(f\"Books by {author_tofind}:\")\n",
    "\n",
    "for book in test.books:\n",
    "    if book.author == author_tofind:\n",
    "        print(f\"- {book.title}\")"
   ]
  }
 ],
 "metadata": {
  "kernelspec": {
   "display_name": "anaconda-panel-2023.05-py310",
   "language": "python",
   "name": "conda-env-anaconda-panel-2023.05-py310-py"
  },
  "language_info": {
   "codemirror_mode": {
    "name": "ipython",
    "version": 3
   },
   "file_extension": ".py",
   "mimetype": "text/x-python",
   "name": "python",
   "nbconvert_exporter": "python",
   "pygments_lexer": "ipython3",
   "version": "3.11.5"
  }
 },
 "nbformat": 4,
 "nbformat_minor": 5
}
