{
 "cells": [
  {
   "cell_type": "code",
   "execution_count": 33,
   "id": "9cf708f2-5dfb-4f91-b61f-ea3c7c8f5403",
   "metadata": {},
   "outputs": [],
   "source": [
    "from nltk.corpus import wordnet"
   ]
  },
  {
   "cell_type": "code",
   "execution_count": 34,
   "id": "5133d939-1eb7-4637-9629-1163ba053025",
   "metadata": {},
   "outputs": [],
   "source": [
    "def are_words_similar(word1, word2):\n",
    "    if len(word1) < 3 or len(word2) < 3:\n",
    "        return False\n",
    "\n",
    "    meanings1 = wordnet.synsets(word1)\n",
    "    meanings2 = wordnet.synsets(word2)\n",
    "\n",
    "    if not meanings1 or not meanings2:\n",
    "        return word1 == word2\n",
    "\n",
    "    for m1 in meanings1:\n",
    "        for m2 in meanings2:\n",
    "            if set(lemma.name() for lemma in m1.lemmas()) & set(lemma.name() for lemma in m2.lemmas()):\n",
    "                return True\n",
    "            similarity = m1.wup_similarity(m2)\n",
    "            if similarity and similarity > 0.7:\n",
    "                return True\n",
    "\n",
    "    return False\n",
    "\n",
    "def group_similar_words(sentence):\n",
    "    words = [word.lower() for word in sentence.split() if word.isalpha()]\n",
    "    groups = []\n",
    "    checked_words = set()\n",
    "\n",
    "    for i, word in enumerate(words):\n",
    "        if word in checked_words:\n",
    "            continue\n",
    "\n",
    "        group = [word]\n",
    "        checked_words.add(word)\n",
    "\n",
    "        for other_word in words[i+1:]:\n",
    "            if other_word in checked_words:\n",
    "                continue\n",
    "            if are_words_similar(word, other_word):\n",
    "                group.append(other_word)\n",
    "                checked_words.add(other_word)\n",
    "\n",
    "        groups.append(group)\n",
    "\n",
    "    return groups"
   ]
  },
  {
   "cell_type": "code",
   "execution_count": 35,
   "id": "ee9c8ea7-dad5-411e-810e-0b27238a227c",
   "metadata": {},
   "outputs": [
    {
     "name": "stdout",
     "output_type": "stream",
     "text": [
      "Similar word groups found:\n",
      "Group 1: the\n",
      "Group 2: happy\n",
      "Group 3: joyful\n",
      "Group 4: dog, chased, puppy\n",
      "Group 5: cheerful\n"
     ]
    }
   ],
   "source": [
    "sentence = \"The happy joyful dog chased the cheerful puppy\"\n",
    "word_groups = group_similar_words(sentence)\n",
    "\n",
    "print(\"Similar word groups found:\")\n",
    "for i, group in enumerate(word_groups, start=1):\n",
    "    print(f\"Group {i}: {', '.join(group)}\")"
   ]
  }
 ],
 "metadata": {
  "kernelspec": {
   "display_name": "anaconda-panel-2023.05-py310",
   "language": "python",
   "name": "conda-env-anaconda-panel-2023.05-py310-py"
  },
  "language_info": {
   "codemirror_mode": {
    "name": "ipython",
    "version": 3
   },
   "file_extension": ".py",
   "mimetype": "text/x-python",
   "name": "python",
   "nbconvert_exporter": "python",
   "pygments_lexer": "ipython3",
   "version": "3.11.5"
  }
 },
 "nbformat": 4,
 "nbformat_minor": 5
}
