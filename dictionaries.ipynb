{
 "cells": [
  {
   "cell_type": "code",
   "execution_count": 6,
   "id": "6a438423-20e0-47cc-b015-5a99ebb086d0",
   "metadata": {},
   "outputs": [
    {
     "data": {
      "text/plain": [
       "{'name': 'Hasan',\n",
       " 'age': '24',\n",
       " 'post': 'manager',\n",
       " 'number': '5367282637',\n",
       " 'languages': 'english,hindi'}"
      ]
     },
     "execution_count": 6,
     "metadata": {},
     "output_type": "execute_result"
    }
   ],
   "source": [
    "employee = {'name': 'Hasan','age': '24','post': 'manager','number': '5367282637','languages': 'english,hindi'}\n",
    "employee"
   ]
  },
  {
   "cell_type": "code",
   "execution_count": 7,
   "id": "77db12de-ceda-4ce2-be22-52cfad550ce1",
   "metadata": {},
   "outputs": [
    {
     "data": {
      "text/plain": [
       "{'name': 'Hasan',\n",
       " 'age': '24',\n",
       " 'post': 'manager',\n",
       " 'number': '5367282637',\n",
       " 'languages': 'english,hindi',\n",
       " 'blood type': 'b+ve'}"
      ]
     },
     "execution_count": 7,
     "metadata": {},
     "output_type": "execute_result"
    }
   ],
   "source": [
    "employee ['blood type'] = 'b+ve'\n",
    "employee"
   ]
  },
  {
   "cell_type": "code",
   "execution_count": 9,
   "id": "0b0ca568-689e-41c7-abc7-0f791c35503c",
   "metadata": {},
   "outputs": [
    {
     "data": {
      "text/plain": [
       "{'name': 'Hasan',\n",
       " 'age': '24',\n",
       " 'post': 'manager',\n",
       " 'number': '5367282637',\n",
       " 'blood type': 'b+ve'}"
      ]
     },
     "execution_count": 9,
     "metadata": {},
     "output_type": "execute_result"
    }
   ],
   "source": [
    "del employee['languages']\n",
    "employee"
   ]
  },
  {
   "cell_type": "code",
   "execution_count": null,
   "id": "5736f244-665d-4ad5-ba31-d76d84aca783",
   "metadata": {},
   "outputs": [],
   "source": []
  }
 ],
 "metadata": {
  "kernelspec": {
   "display_name": "anaconda-panel-2023.05-py310",
   "language": "python",
   "name": "conda-env-anaconda-panel-2023.05-py310-py"
  },
  "language_info": {
   "codemirror_mode": {
    "name": "ipython",
    "version": 3
   },
   "file_extension": ".py",
   "mimetype": "text/x-python",
   "name": "python",
   "nbconvert_exporter": "python",
   "pygments_lexer": "ipython3",
   "version": "3.11.5"
  }
 },
 "nbformat": 4,
 "nbformat_minor": 5
}
