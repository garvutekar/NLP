{
 "cells": [
  {
   "cell_type": "code",
   "execution_count": 1,
   "id": "fb670e5e-83d7-4a8c-a9b3-b77a8bfd9568",
   "metadata": {},
   "outputs": [],
   "source": [
    "import numpy as np"
   ]
  },
  {
   "cell_type": "code",
   "execution_count": 11,
   "id": "61229c40-a8b2-458c-bf4f-899b2ab3a9fb",
   "metadata": {},
   "outputs": [],
   "source": [
    "class LinearRegression:\n",
    "    def __init__(self):\n",
    "        self.slope = None\n",
    "        self.intercept = None\n",
    "        \n",
    "\n",
    "    def fit(self,X,y):\n",
    "        n = len(X)\n",
    "        X_mean = np.mean(X)\n",
    "        y_mean = np.mean(y)\n",
    "        numerator = 0\n",
    "        denominator = 0\n",
    "        for i in range(n):\n",
    "            numerator += (X[i]-X_mean) * (y[i]-y_mean)\n",
    "            denominator += (X[i]-X_mean)**2\n",
    "\n",
    "        self.slope = numerator/denominator\n",
    "        self.intercept = y_mean - self.slope * X_mean\n",
    "\n",
    "\n",
    "    def predict(self,X):\n",
    "        y_pred = []\n",
    "        for x in X:\n",
    "            y_pred.append(self.slope * x + self.intercept)\n",
    "            return y_pred"
   ]
  },
  {
   "cell_type": "code",
   "execution_count": 12,
   "id": "431e6da8-507d-4a2a-991c-34105c9a9e4e",
   "metadata": {},
   "outputs": [
    {
     "name": "stdout",
     "output_type": "stream",
     "text": [
      "1.0\n",
      "0.0\n",
      "[1.0]\n"
     ]
    }
   ],
   "source": [
    "X = np.array([1,2,3,4,5])\n",
    "y = np.array([1,2,3,4,5])\n",
    "lr = LinearRegression()\n",
    "lr.fit(X,y)\n",
    "print(lr.slope)\n",
    "print(lr.intercept)\n",
    "y_pred = lr.predict(X)\n",
    "print(y_pred)"
   ]
  }
 ],
 "metadata": {
  "kernelspec": {
   "display_name": "anaconda-panel-2023.05-py310",
   "language": "python",
   "name": "conda-env-anaconda-panel-2023.05-py310-py"
  },
  "language_info": {
   "codemirror_mode": {
    "name": "ipython",
    "version": 3
   },
   "file_extension": ".py",
   "mimetype": "text/x-python",
   "name": "python",
   "nbconvert_exporter": "python",
   "pygments_lexer": "ipython3",
   "version": "3.11.5"
  }
 },
 "nbformat": 4,
 "nbformat_minor": 5
}
