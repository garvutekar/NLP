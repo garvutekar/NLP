{
 "cells": [
  {
   "cell_type": "code",
   "execution_count": 3,
   "id": "55b755f0-6aa8-4e92-919d-88ba496dbd74",
   "metadata": {},
   "outputs": [
    {
     "name": "stdin",
     "output_type": "stream",
     "text": [
      "Enter the numerator: 23\n",
      "Enter the denominator: 0\n"
     ]
    },
    {
     "name": "stdout",
     "output_type": "stream",
     "text": [
      "A number cannot be divided by zero.Please enter again\n"
     ]
    },
    {
     "name": "stdin",
     "output_type": "stream",
     "text": [
      "Enter the denominator: 0\n",
      "Enter the denominator: 0\n",
      "Enter the denominator: 0\n",
      "Enter the denominator: 34\n"
     ]
    },
    {
     "name": "stdout",
     "output_type": "stream",
     "text": [
      "Numerator is: 23.0\n",
      "Denominator is: 34.0\n",
      "0.6764705882352942\n"
     ]
    }
   ],
   "source": [
    "try:\n",
    "    num1 = float(input(\"Enter the numerator:\"))\n",
    "    num2 = float(input(\"Enter the denominator:\"))\n",
    "\n",
    "    answer = num1/num2\n",
    "    \n",
    "    print(\"Numerator is:\",num1)\n",
    "    print(\"Denominator is:\",num2)\n",
    "    print(answer)\n",
    "\n",
    "except ZeroDivisionError:\n",
    "    print(\"A number cannot be divided by zero.Please enter again\")\n",
    "    while True:\n",
    "          num2 = float(input(\"Enter the denominator:\"))\n",
    "          if num2 != 0:\n",
    "            answer = num1/num2\n",
    "    \n",
    "            print(\"Numerator is:\",num1)\n",
    "            print(\"Denominator is:\",num2)\n",
    "            print(answer)\n",
    "            break"
   ]
  },
  {
   "cell_type": "code",
   "execution_count": 12,
   "id": "44176f82-a678-4aba-8e16-213a630ca676",
   "metadata": {},
   "outputs": [
    {
     "ename": "IndentationError",
     "evalue": "expected an indented block after 'while' statement on line 13 (3098582922.py, line 14)",
     "output_type": "error",
     "traceback": [
      "\u001b[0;36m  Cell \u001b[0;32mIn[12], line 14\u001b[0;36m\u001b[0m\n\u001b[0;31m    try:\u001b[0m\n\u001b[0m    ^\u001b[0m\n\u001b[0;31mIndentationError\u001b[0m\u001b[0;31m:\u001b[0m expected an indented block after 'while' statement on line 13\n"
     ]
    }
   ],
   "source": [
    "try:\n",
    "    numA = float(input(\"Enter the numerator:\"))\n",
    "    numB = float(input(\"Enter the denominator:\"))\n",
    "\n",
    "    answer = numA/numB\n",
    "    \n",
    "    print(\"Numerator is:\",numA)\n",
    "    print(\"Denominator is:\",numB)\n",
    "    print(answer)\n",
    "\n",
    "except ValueError:\n",
    "    print(\"Please only enter numbers\")\n",
    "    while True:\n",
    "        try:\n",
    "            numB = float(input(\"Enter the denominator: \"))\n",
    "            if numB == 0:\n",
    "                print(\"A number cannot be divided by zero. Please enter again.\")\n",
    "                continue\n",
    "            break\n",
    "    except ValueError:\n",
    "        print(\"Please only enter numbers for the denominator.\")\n",
    "\n",
    "answer = numA / numB\n",
    "print(\"Numerator is:\", numA)\n",
    "print(\"Denominator is:\", numB)\n",
    "print(\"Answer is:\", answer)"
   ]
  },
  {
   "cell_type": "code",
   "execution_count": null,
   "id": "e91d6481-2765-4ba5-9db0-f7122a2e70fd",
   "metadata": {},
   "outputs": [],
   "source": []
  }
 ],
 "metadata": {
  "kernelspec": {
   "display_name": "anaconda-panel-2023.05-py310",
   "language": "python",
   "name": "conda-env-anaconda-panel-2023.05-py310-py"
  },
  "language_info": {
   "codemirror_mode": {
    "name": "ipython",
    "version": 3
   },
   "file_extension": ".py",
   "mimetype": "text/x-python",
   "name": "python",
   "nbconvert_exporter": "python",
   "pygments_lexer": "ipython3",
   "version": "3.11.5"
  }
 },
 "nbformat": 4,
 "nbformat_minor": 5
}
