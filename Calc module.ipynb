{
 "cells": [
  {
   "cell_type": "code",
   "execution_count": 8,
   "id": "4710a3f2-029f-4b5a-b15e-f85b0fb2a816",
   "metadata": {},
   "outputs": [
    {
     "name": "stdout",
     "output_type": "stream",
     "text": [
      "Writing calc.py\n"
     ]
    }
   ],
   "source": [
    "%%writefile calc.py\n",
    "\n",
    "def addition(i,j):\n",
    "    print(i+j)\n",
    "\n",
    "def subtraction(i,j):\n",
    "    print(i-j)\n",
    "\n",
    "def multiplication(i,j):\n",
    "    print(i*j)\n",
    "\n",
    "def division(i,j):\n",
    "    if j>0:\n",
    "        print(i/j)\n",
    "    else:\n",
    "        print(\"Number cannot be divided by 0\")"
   ]
  },
  {
   "cell_type": "code",
   "execution_count": null,
   "id": "c8c8393f-f046-451e-8576-46d9387e6c5d",
   "metadata": {},
   "outputs": [],
   "source": []
  }
 ],
 "metadata": {
  "kernelspec": {
   "display_name": "anaconda-panel-2023.05-py310",
   "language": "python",
   "name": "conda-env-anaconda-panel-2023.05-py310-py"
  },
  "language_info": {
   "codemirror_mode": {
    "name": "ipython",
    "version": 3
   },
   "file_extension": ".py",
   "mimetype": "text/x-python",
   "name": "python",
   "nbconvert_exporter": "python",
   "pygments_lexer": "ipython3",
   "version": "3.11.5"
  }
 },
 "nbformat": 4,
 "nbformat_minor": 5
}
